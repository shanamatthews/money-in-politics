{
 "cells": [
  {
   "cell_type": "markdown",
   "metadata": {},
   "source": [
    "# Money in California politics in the November 2016 election"
   ]
  },
  {
   "cell_type": "code",
   "execution_count": 116,
   "metadata": {},
   "outputs": [],
   "source": [
    "import pandas as pd\n",
    "import altair as alt"
   ]
  },
  {
   "cell_type": "markdown",
   "metadata": {},
   "source": [
    "## import data"
   ]
  },
  {
   "cell_type": "markdown",
   "metadata": {},
   "source": [
    "Table linking all committees which were linked (support/oppose) to each proposition in the California November 2016 ballot. "
   ]
  },
  {
   "cell_type": "code",
   "execution_count": 117,
   "metadata": {},
   "outputs": [],
   "source": [
    "committee_list = pd.read_csv(\"https://raw.githubusercontent.com/california-civic-data-coalition/first-python-notebook/master/docs/_static/committees.csv\")"
   ]
  },
  {
   "cell_type": "code",
   "execution_count": 118,
   "metadata": {
    "tags": []
   },
   "outputs": [
    {
     "output_type": "stream",
     "name": "stdout",
     "text": "<class 'pandas.core.frame.DataFrame'>\nRangeIndex: 102 entries, 0 to 101\nData columns (total 8 columns):\n #   Column                  Non-Null Count  Dtype \n---  ------                  --------------  ----- \n 0   ocd_prop_id             102 non-null    object\n 1   calaccess_prop_id       102 non-null    int64 \n 2   ccdc_prop_id            102 non-null    int64 \n 3   prop_name               102 non-null    object\n 4   ccdc_committee_id       102 non-null    int64 \n 5   calaccess_committee_id  102 non-null    int64 \n 6   committee_name          102 non-null    object\n 7   committee_position      102 non-null    object\ndtypes: int64(4), object(4)\nmemory usage: 6.5+ KB\n"
    }
   ],
   "source": [
    "committee_list.info()"
   ]
  },
  {
   "cell_type": "code",
   "execution_count": 119,
   "metadata": {},
   "outputs": [
    {
     "output_type": "execute_result",
     "data": {
      "text/plain": "                                        ocd_prop_id  calaccess_prop_id  \\\n0  ocd-contest/b51dc64d-3562-4913-a190-69f5088c22a6            1376258   \n1  ocd-contest/b51dc64d-3562-4913-a190-69f5088c22a6            1376258   \n2  ocd-contest/b51dc64d-3562-4913-a190-69f5088c22a6            1376258   \n3  ocd-contest/b51dc64d-3562-4913-a190-69f5088c22a6            1376258   \n4  ocd-contest/85990193-9d6f-4600-b8e7-bf1317841d82            1362198   \n\n   ccdc_prop_id                                          prop_name  \\\n0            70  PROPOSITION 051 - SCHOOL BONDS. FUNDING FOR K-...   \n1            70  PROPOSITION 051 - SCHOOL BONDS. FUNDING FOR K-...   \n2            70  PROPOSITION 051 - SCHOOL BONDS. FUNDING FOR K-...   \n3            70  PROPOSITION 051 - SCHOOL BONDS. FUNDING FOR K-...   \n4            71  PROPOSITION 052 - STATE FEES ON HOSPITALS. FED...   \n\n   ccdc_committee_id  calaccess_committee_id  \\\n0                382                 1374469   \n1                383                 1220380   \n2                384                 1282321   \n3                385                 1382843   \n4                386                 1362973   \n\n                                      committee_name committee_position  \n0  YES ON PROPOSITION 51 - CALIFORNIANS FOR QUALI...            SUPPORT  \n1  COMMUNITY COLLEGE FACILITY COALITION ISSUES CO...            SUPPORT  \n2  TORLAKSON'S INVEST IN CALIFORNIA A BALLOT MEAS...            SUPPORT  \n3  CALIFORNIA TAXPAYERS AND EDUCATORS OPPOSED TO ...             OPPOSE  \n4  YES ON PROPOSITION 52 - A COALITION OF CALIFOR...            SUPPORT  ",
      "text/html": "<div>\n<style scoped>\n    .dataframe tbody tr th:only-of-type {\n        vertical-align: middle;\n    }\n\n    .dataframe tbody tr th {\n        vertical-align: top;\n    }\n\n    .dataframe thead th {\n        text-align: right;\n    }\n</style>\n<table border=\"1\" class=\"dataframe\">\n  <thead>\n    <tr style=\"text-align: right;\">\n      <th></th>\n      <th>ocd_prop_id</th>\n      <th>calaccess_prop_id</th>\n      <th>ccdc_prop_id</th>\n      <th>prop_name</th>\n      <th>ccdc_committee_id</th>\n      <th>calaccess_committee_id</th>\n      <th>committee_name</th>\n      <th>committee_position</th>\n    </tr>\n  </thead>\n  <tbody>\n    <tr>\n      <th>0</th>\n      <td>ocd-contest/b51dc64d-3562-4913-a190-69f5088c22a6</td>\n      <td>1376258</td>\n      <td>70</td>\n      <td>PROPOSITION 051 - SCHOOL BONDS. FUNDING FOR K-...</td>\n      <td>382</td>\n      <td>1374469</td>\n      <td>YES ON PROPOSITION 51 - CALIFORNIANS FOR QUALI...</td>\n      <td>SUPPORT</td>\n    </tr>\n    <tr>\n      <th>1</th>\n      <td>ocd-contest/b51dc64d-3562-4913-a190-69f5088c22a6</td>\n      <td>1376258</td>\n      <td>70</td>\n      <td>PROPOSITION 051 - SCHOOL BONDS. FUNDING FOR K-...</td>\n      <td>383</td>\n      <td>1220380</td>\n      <td>COMMUNITY COLLEGE FACILITY COALITION ISSUES CO...</td>\n      <td>SUPPORT</td>\n    </tr>\n    <tr>\n      <th>2</th>\n      <td>ocd-contest/b51dc64d-3562-4913-a190-69f5088c22a6</td>\n      <td>1376258</td>\n      <td>70</td>\n      <td>PROPOSITION 051 - SCHOOL BONDS. FUNDING FOR K-...</td>\n      <td>384</td>\n      <td>1282321</td>\n      <td>TORLAKSON'S INVEST IN CALIFORNIA A BALLOT MEAS...</td>\n      <td>SUPPORT</td>\n    </tr>\n    <tr>\n      <th>3</th>\n      <td>ocd-contest/b51dc64d-3562-4913-a190-69f5088c22a6</td>\n      <td>1376258</td>\n      <td>70</td>\n      <td>PROPOSITION 051 - SCHOOL BONDS. FUNDING FOR K-...</td>\n      <td>385</td>\n      <td>1382843</td>\n      <td>CALIFORNIA TAXPAYERS AND EDUCATORS OPPOSED TO ...</td>\n      <td>OPPOSE</td>\n    </tr>\n    <tr>\n      <th>4</th>\n      <td>ocd-contest/85990193-9d6f-4600-b8e7-bf1317841d82</td>\n      <td>1362198</td>\n      <td>71</td>\n      <td>PROPOSITION 052 - STATE FEES ON HOSPITALS. FED...</td>\n      <td>386</td>\n      <td>1362973</td>\n      <td>YES ON PROPOSITION 52 - A COALITION OF CALIFOR...</td>\n      <td>SUPPORT</td>\n    </tr>\n  </tbody>\n</table>\n</div>"
     },
     "metadata": {},
     "execution_count": 119
    }
   ],
   "source": [
    "committee_list.head()"
   ]
  },
  {
   "cell_type": "markdown",
   "metadata": {},
   "source": [
    "Donors reported by each committee in the above table."
   ]
  },
  {
   "cell_type": "code",
   "execution_count": 120,
   "metadata": {},
   "outputs": [],
   "source": [
    "contrib_list = pd.read_csv(\"https://raw.githubusercontent.com/california-civic-data-coalition/first-python-notebook/master/docs/_static/contributions.csv\")"
   ]
  },
  {
   "cell_type": "code",
   "execution_count": 121,
   "metadata": {
    "tags": []
   },
   "outputs": [
    {
     "output_type": "stream",
     "name": "stdout",
     "text": "<class 'pandas.core.frame.DataFrame'>\nRangeIndex: 56379 entries, 0 to 56378\nData columns (total 13 columns):\n #   Column                        Non-Null Count  Dtype  \n---  ------                        --------------  -----  \n 0   calaccess_committee_id        56379 non-null  int64  \n 1   committee_name                56379 non-null  object \n 2   calaccess_filing_id           56379 non-null  int64  \n 3   date_received                 56379 non-null  object \n 4   contributor_lastname          56375 non-null  object \n 5   contributor_firstname         53411 non-null  object \n 6   contributor_city              56369 non-null  object \n 7   contributor_state             56363 non-null  object \n 8   contributor_zip               56366 non-null  object \n 9   contributor_employer          48572 non-null  object \n 10  contributor_occupation        53273 non-null  object \n 11  contributor_is_self_employed  56379 non-null  bool   \n 12  amount                        56379 non-null  float64\ndtypes: bool(1), float64(1), int64(2), object(9)\nmemory usage: 5.2+ MB\n"
    }
   ],
   "source": [
    "contrib_list.info()"
   ]
  },
  {
   "cell_type": "code",
   "execution_count": 122,
   "metadata": {},
   "outputs": [
    {
     "output_type": "execute_result",
     "data": {
      "text/plain": "   calaccess_committee_id                              committee_name  \\\n0                 1386560  ADULT USE CAMPAIGN FOR PROPOSITION 64; THE   \n1                 1386560  ADULT USE CAMPAIGN FOR PROPOSITION 64; THE   \n2                 1386560  ADULT USE CAMPAIGN FOR PROPOSITION 64; THE   \n3                 1386560  ADULT USE CAMPAIGN FOR PROPOSITION 64; THE   \n4                 1386560  ADULT USE CAMPAIGN FOR PROPOSITION 64; THE   \n\n   calaccess_filing_id date_received contributor_lastname  \\\n0              2083796    2016-09-18              BERGMAN   \n1              2083796    2016-09-18                KAHLE   \n2              2083796    2016-07-15             MCDEVITT   \n3              2083796    2016-08-10      WARREN-SAMARIPA   \n4              2083796    2016-07-26      WARREN-SAMARIPA   \n\n  contributor_firstname contributor_city contributor_state contributor_zip  \\\n0              GRETCHEN    SPRING VALLEY                CA           91978   \n1                 MYRNA        SAN DIEGO                CA           92109   \n2                   LEO        ESCONDIDO                CA           92025   \n3             STEPHANIE        SAN DIEGO                CA           92116   \n4             STEPHANIE        SAN DIEGO                CA           92116   \n\n        contributor_employer contributor_occupation  \\\n0                 A NEW PATH     EXECUTIVE DIRECTOR   \n1   NATIONAL SCHOOL DISTRICT                TEACHER   \n2              LIFE IONIZERS    SEO/CONTENT MANAGER   \n3  STEPHANIE WARREN SAMARIPA           ENTREPRENEUR   \n4  STEPHANIE WARREN SAMARIPA           ENTREPRENEUR   \n\n   contributor_is_self_employed  amount  \n0                         False    84.0  \n1                         False    35.0  \n2                         False   198.0  \n3                         False   -50.0  \n4                          True    50.0  ",
      "text/html": "<div>\n<style scoped>\n    .dataframe tbody tr th:only-of-type {\n        vertical-align: middle;\n    }\n\n    .dataframe tbody tr th {\n        vertical-align: top;\n    }\n\n    .dataframe thead th {\n        text-align: right;\n    }\n</style>\n<table border=\"1\" class=\"dataframe\">\n  <thead>\n    <tr style=\"text-align: right;\">\n      <th></th>\n      <th>calaccess_committee_id</th>\n      <th>committee_name</th>\n      <th>calaccess_filing_id</th>\n      <th>date_received</th>\n      <th>contributor_lastname</th>\n      <th>contributor_firstname</th>\n      <th>contributor_city</th>\n      <th>contributor_state</th>\n      <th>contributor_zip</th>\n      <th>contributor_employer</th>\n      <th>contributor_occupation</th>\n      <th>contributor_is_self_employed</th>\n      <th>amount</th>\n    </tr>\n  </thead>\n  <tbody>\n    <tr>\n      <th>0</th>\n      <td>1386560</td>\n      <td>ADULT USE CAMPAIGN FOR PROPOSITION 64; THE</td>\n      <td>2083796</td>\n      <td>2016-09-18</td>\n      <td>BERGMAN</td>\n      <td>GRETCHEN</td>\n      <td>SPRING VALLEY</td>\n      <td>CA</td>\n      <td>91978</td>\n      <td>A NEW PATH</td>\n      <td>EXECUTIVE DIRECTOR</td>\n      <td>False</td>\n      <td>84.0</td>\n    </tr>\n    <tr>\n      <th>1</th>\n      <td>1386560</td>\n      <td>ADULT USE CAMPAIGN FOR PROPOSITION 64; THE</td>\n      <td>2083796</td>\n      <td>2016-09-18</td>\n      <td>KAHLE</td>\n      <td>MYRNA</td>\n      <td>SAN DIEGO</td>\n      <td>CA</td>\n      <td>92109</td>\n      <td>NATIONAL SCHOOL DISTRICT</td>\n      <td>TEACHER</td>\n      <td>False</td>\n      <td>35.0</td>\n    </tr>\n    <tr>\n      <th>2</th>\n      <td>1386560</td>\n      <td>ADULT USE CAMPAIGN FOR PROPOSITION 64; THE</td>\n      <td>2083796</td>\n      <td>2016-07-15</td>\n      <td>MCDEVITT</td>\n      <td>LEO</td>\n      <td>ESCONDIDO</td>\n      <td>CA</td>\n      <td>92025</td>\n      <td>LIFE IONIZERS</td>\n      <td>SEO/CONTENT MANAGER</td>\n      <td>False</td>\n      <td>198.0</td>\n    </tr>\n    <tr>\n      <th>3</th>\n      <td>1386560</td>\n      <td>ADULT USE CAMPAIGN FOR PROPOSITION 64; THE</td>\n      <td>2083796</td>\n      <td>2016-08-10</td>\n      <td>WARREN-SAMARIPA</td>\n      <td>STEPHANIE</td>\n      <td>SAN DIEGO</td>\n      <td>CA</td>\n      <td>92116</td>\n      <td>STEPHANIE WARREN SAMARIPA</td>\n      <td>ENTREPRENEUR</td>\n      <td>False</td>\n      <td>-50.0</td>\n    </tr>\n    <tr>\n      <th>4</th>\n      <td>1386560</td>\n      <td>ADULT USE CAMPAIGN FOR PROPOSITION 64; THE</td>\n      <td>2083796</td>\n      <td>2016-07-26</td>\n      <td>WARREN-SAMARIPA</td>\n      <td>STEPHANIE</td>\n      <td>SAN DIEGO</td>\n      <td>CA</td>\n      <td>92116</td>\n      <td>STEPHANIE WARREN SAMARIPA</td>\n      <td>ENTREPRENEUR</td>\n      <td>True</td>\n      <td>50.0</td>\n    </tr>\n  </tbody>\n</table>\n</div>"
     },
     "metadata": {},
     "execution_count": 122
    }
   ],
   "source": [
    "contrib_list.head()"
   ]
  },
  {
   "cell_type": "markdown",
   "metadata": {},
   "source": [
    "## Which proposition had the most committees?"
   ]
  },
  {
   "cell_type": "code",
   "execution_count": 123,
   "metadata": {},
   "outputs": [
    {
     "output_type": "execute_result",
     "data": {
      "text/plain": "                                                index  prop_name\n0   PROPOSITION 057 - CRIMINAL SENTENCES. JUVENILE...         13\n1   PROPOSITION 056 - CIGARETTE TAX TO FUND HEALTH...         12\n2   PROPOSITION 064- MARIJUANA LEGALIZATION. INITI...         11\n3   PROPOSITION 066- DEATH PENALTY. PROCEDURES. IN...          9\n4   PROPOSITION 055 - TAX EXTENSION TO FUND EDUCAT...          8\n5   PROPOSITION 062- DEATH PENALTY. INITIATIVE STA...          7\n6   PROPOSITION 067- REFERENDUM TO OVERTURN BAN ON...          7\n7   PROPOSITION 059- SB 254 (CHAPTER 20, STATUTES ...          6\n8   PROPOSITION 051 - SCHOOL BONDS. FUNDING FOR K-...          4\n9   PROPOSITION 054 - LEGISLATURE. LEGISLATION AND...          4\n10  PROPOSITION 063- FIREARMS. AMMUNITION SALES. I...          4\n11  PROPOSITION 058 - SB 1174 (CHAPTER 753, STATUT...          4\n12  PROPOSITION 053 - REVENUE BONDS. STATEWIDE VOT...          4\n13  PROPOSITION 052 - STATE FEES ON HOSPITALS. FED...          3\n14  PROPOSITION 061- STATE PRESCRIPTION DRUG PURCH...          3\n15  PROPOSITION 060- ADULT FILMS. CONDOMS. HEALTH ...          2\n16  PROPOSITION 065- CARRY-OUT BAGS. CHARGES. INIT...          1",
      "text/html": "<div>\n<style scoped>\n    .dataframe tbody tr th:only-of-type {\n        vertical-align: middle;\n    }\n\n    .dataframe tbody tr th {\n        vertical-align: top;\n    }\n\n    .dataframe thead th {\n        text-align: right;\n    }\n</style>\n<table border=\"1\" class=\"dataframe\">\n  <thead>\n    <tr style=\"text-align: right;\">\n      <th></th>\n      <th>index</th>\n      <th>prop_name</th>\n    </tr>\n  </thead>\n  <tbody>\n    <tr>\n      <th>0</th>\n      <td>PROPOSITION 057 - CRIMINAL SENTENCES. JUVENILE...</td>\n      <td>13</td>\n    </tr>\n    <tr>\n      <th>1</th>\n      <td>PROPOSITION 056 - CIGARETTE TAX TO FUND HEALTH...</td>\n      <td>12</td>\n    </tr>\n    <tr>\n      <th>2</th>\n      <td>PROPOSITION 064- MARIJUANA LEGALIZATION. INITI...</td>\n      <td>11</td>\n    </tr>\n    <tr>\n      <th>3</th>\n      <td>PROPOSITION 066- DEATH PENALTY. PROCEDURES. IN...</td>\n      <td>9</td>\n    </tr>\n    <tr>\n      <th>4</th>\n      <td>PROPOSITION 055 - TAX EXTENSION TO FUND EDUCAT...</td>\n      <td>8</td>\n    </tr>\n    <tr>\n      <th>5</th>\n      <td>PROPOSITION 062- DEATH PENALTY. INITIATIVE STA...</td>\n      <td>7</td>\n    </tr>\n    <tr>\n      <th>6</th>\n      <td>PROPOSITION 067- REFERENDUM TO OVERTURN BAN ON...</td>\n      <td>7</td>\n    </tr>\n    <tr>\n      <th>7</th>\n      <td>PROPOSITION 059- SB 254 (CHAPTER 20, STATUTES ...</td>\n      <td>6</td>\n    </tr>\n    <tr>\n      <th>8</th>\n      <td>PROPOSITION 051 - SCHOOL BONDS. FUNDING FOR K-...</td>\n      <td>4</td>\n    </tr>\n    <tr>\n      <th>9</th>\n      <td>PROPOSITION 054 - LEGISLATURE. LEGISLATION AND...</td>\n      <td>4</td>\n    </tr>\n    <tr>\n      <th>10</th>\n      <td>PROPOSITION 063- FIREARMS. AMMUNITION SALES. I...</td>\n      <td>4</td>\n    </tr>\n    <tr>\n      <th>11</th>\n      <td>PROPOSITION 058 - SB 1174 (CHAPTER 753, STATUT...</td>\n      <td>4</td>\n    </tr>\n    <tr>\n      <th>12</th>\n      <td>PROPOSITION 053 - REVENUE BONDS. STATEWIDE VOT...</td>\n      <td>4</td>\n    </tr>\n    <tr>\n      <th>13</th>\n      <td>PROPOSITION 052 - STATE FEES ON HOSPITALS. FED...</td>\n      <td>3</td>\n    </tr>\n    <tr>\n      <th>14</th>\n      <td>PROPOSITION 061- STATE PRESCRIPTION DRUG PURCH...</td>\n      <td>3</td>\n    </tr>\n    <tr>\n      <th>15</th>\n      <td>PROPOSITION 060- ADULT FILMS. CONDOMS. HEALTH ...</td>\n      <td>2</td>\n    </tr>\n    <tr>\n      <th>16</th>\n      <td>PROPOSITION 065- CARRY-OUT BAGS. CHARGES. INIT...</td>\n      <td>1</td>\n    </tr>\n  </tbody>\n</table>\n</div>"
     },
     "metadata": {},
     "execution_count": 123
    }
   ],
   "source": [
    "committee_list.prop_name.value_counts().reset_index()"
   ]
  },
  {
   "cell_type": "markdown",
   "metadata": {},
   "source": [
    "## Who were the biggest donors (for and against) Prop 64 (legalizing marijuana for recreational purposes)?"
   ]
  },
  {
   "cell_type": "code",
   "execution_count": 124,
   "metadata": {},
   "outputs": [
    {
     "output_type": "execute_result",
     "data": {
      "text/plain": "PROPOSITION 057 - CRIMINAL SENTENCES. JUVENILE CRIMINAL PROCEEDINGS AND SENTENCING. INITIATIVE CONSTITUTIONAL AMENDMENT AND STATUTE.                           13\nPROPOSITION 056 - CIGARETTE TAX TO FUND HEALTHCARE, TOBACCO USE PREVENTION, RESEARCH, AND LAW ENFORCEMENT. INITIATIVE CONSTITUTIONAL AMENDMENT AND STATUTE.    12\nPROPOSITION 064- MARIJUANA LEGALIZATION. INITIATIVE STATUTE.                                                                                                   11\nPROPOSITION 066- DEATH PENALTY. PROCEDURES. INITIATIVE STATUTE.                                                                                                 9\nPROPOSITION 055 - TAX EXTENSION TO FUND EDUCATION AND HEALTHCARE. INITIATIVE CONSTITUTIONAL AMENDMENT.                                                          8\nPROPOSITION 062- DEATH PENALTY. INITIATIVE STATUTE.                                                                                                             7\nPROPOSITION 067- REFERENDUM TO OVERTURN BAN ON SINGLE-USE PLASTIC BAGS.                                                                                         7\nPROPOSITION 059- SB 254 (CHAPTER 20, STATUTES OF 2016), ALLEN. CAMPAIGN FINANCE: VOTER INSTRUCTION                                                              6\nPROPOSITION 051 - SCHOOL BONDS. FUNDING FOR K-12 SCHOOL AND COMMUNITY COLLEGE FACILITIES. INITIATIVE STATUTORY AMENDMENT.                                       4\nPROPOSITION 054 - LEGISLATURE. LEGISLATION AND PROCEEDINGS. INITIATIVE CONSTITUTIONAL AMENDMENT AND STATUTE.                                                    4\nPROPOSITION 063- FIREARMS. AMMUNITION SALES. INTIATIVE STATUTE.                                                                                                 4\nPROPOSITION 058 - SB 1174 (CHAPTER 753, STATUTES OF 2014), LARA. ENGLISH LANGUAGE EDUCATION                                                                     4\nPROPOSITION 053 - REVENUE BONDS. STATEWIDE VOTER APPROVAL. INITIATIVE CONSTITUTIONAL AMENDMENT.                                                                 4\nPROPOSITION 052 - STATE FEES ON HOSPITALS. FEDERAL MEDI-CAL MATCHING FUNDS. INITIATIVE STATUTORY AND CONSTITUTIONAL AMENDMENT.                                  3\nPROPOSITION 061- STATE PRESCRIPTION DRUG PURCHASES. PRICING STANDARDS. INITIATIVE STATUTE.                                                                      3\nPROPOSITION 060- ADULT FILMS. CONDOMS. HEALTH REQUIREMENTS. INITIATIVE STATUTE.                                                                                 2\nPROPOSITION 065- CARRY-OUT BAGS. CHARGES. INITIATIVE STATUTE.                                                                                                   1\nName: prop_name, dtype: int64"
     },
     "metadata": {},
     "execution_count": 124
    }
   ],
   "source": [
    "committee_list.prop_name.value_counts()"
   ]
  },
  {
   "cell_type": "markdown",
   "metadata": {},
   "source": [
    "Find what committees were involved with prop 64"
   ]
  },
  {
   "cell_type": "code",
   "execution_count": 125,
   "metadata": {},
   "outputs": [],
   "source": [
    "mj_prop = 'PROPOSITION 064- MARIJUANA LEGALIZATION. INITIATIVE STATUTE.'\n",
    "mj_committees = committee_list[committee_list.prop_name == mj_prop]"
   ]
  },
  {
   "cell_type": "code",
   "execution_count": 126,
   "metadata": {
    "tags": []
   },
   "outputs": [
    {
     "output_type": "stream",
     "name": "stdout",
     "text": "<class 'pandas.core.frame.DataFrame'>\nInt64Index: 11 entries, 74 to 84\nData columns (total 8 columns):\n #   Column                  Non-Null Count  Dtype \n---  ------                  --------------  ----- \n 0   ocd_prop_id             11 non-null     object\n 1   calaccess_prop_id       11 non-null     int64 \n 2   ccdc_prop_id            11 non-null     int64 \n 3   prop_name               11 non-null     object\n 4   ccdc_committee_id       11 non-null     int64 \n 5   calaccess_committee_id  11 non-null     int64 \n 6   committee_name          11 non-null     object\n 7   committee_position      11 non-null     object\ndtypes: int64(4), object(4)\nmemory usage: 792.0+ bytes\n"
    }
   ],
   "source": [
    "mj_committees.info()"
   ]
  },
  {
   "cell_type": "code",
   "execution_count": 127,
   "metadata": {},
   "outputs": [
    {
     "output_type": "execute_result",
     "data": {
      "text/plain": "                                         ocd_prop_id  calaccess_prop_id  \\\n74  ocd-contest/232cb72c-1b11-4293-b4e2-a181e80d172e            1381868   \n75  ocd-contest/232cb72c-1b11-4293-b4e2-a181e80d172e            1381868   \n76  ocd-contest/232cb72c-1b11-4293-b4e2-a181e80d172e            1381868   \n77  ocd-contest/232cb72c-1b11-4293-b4e2-a181e80d172e            1381868   \n78  ocd-contest/232cb72c-1b11-4293-b4e2-a181e80d172e            1381868   \n\n    ccdc_prop_id                                          prop_name  \\\n74            83  PROPOSITION 064- MARIJUANA LEGALIZATION. INITI...   \n75            83  PROPOSITION 064- MARIJUANA LEGALIZATION. INITI...   \n76            83  PROPOSITION 064- MARIJUANA LEGALIZATION. INITI...   \n77            83  PROPOSITION 064- MARIJUANA LEGALIZATION. INITI...   \n78            83  PROPOSITION 064- MARIJUANA LEGALIZATION. INITI...   \n\n    ccdc_committee_id  calaccess_committee_id  \\\n74                456                 1381808   \n75                457                 1382525   \n76                458                 1376077   \n77                459                 1382568   \n78                460                 1371855   \n\n                                       committee_name committee_position  \n74  YES ON 64, CALIFORNIANS TO CONTROL, REGULATE A...            SUPPORT  \n75                             NEW APPROACH PAC (MPO)            SUPPORT  \n76  CALIFORNIANS FOR SENSIBLE REFORM, SPONSORED BY...            SUPPORT  \n77  PUBLIC AND MENTAL HEALTH ADVOCATES AGAINST 64,...             OPPOSE  \n78  MARIJUANA POLICY PROJECT OF CALIFORNIA, YES ON 64            SUPPORT  ",
      "text/html": "<div>\n<style scoped>\n    .dataframe tbody tr th:only-of-type {\n        vertical-align: middle;\n    }\n\n    .dataframe tbody tr th {\n        vertical-align: top;\n    }\n\n    .dataframe thead th {\n        text-align: right;\n    }\n</style>\n<table border=\"1\" class=\"dataframe\">\n  <thead>\n    <tr style=\"text-align: right;\">\n      <th></th>\n      <th>ocd_prop_id</th>\n      <th>calaccess_prop_id</th>\n      <th>ccdc_prop_id</th>\n      <th>prop_name</th>\n      <th>ccdc_committee_id</th>\n      <th>calaccess_committee_id</th>\n      <th>committee_name</th>\n      <th>committee_position</th>\n    </tr>\n  </thead>\n  <tbody>\n    <tr>\n      <th>74</th>\n      <td>ocd-contest/232cb72c-1b11-4293-b4e2-a181e80d172e</td>\n      <td>1381868</td>\n      <td>83</td>\n      <td>PROPOSITION 064- MARIJUANA LEGALIZATION. INITI...</td>\n      <td>456</td>\n      <td>1381808</td>\n      <td>YES ON 64, CALIFORNIANS TO CONTROL, REGULATE A...</td>\n      <td>SUPPORT</td>\n    </tr>\n    <tr>\n      <th>75</th>\n      <td>ocd-contest/232cb72c-1b11-4293-b4e2-a181e80d172e</td>\n      <td>1381868</td>\n      <td>83</td>\n      <td>PROPOSITION 064- MARIJUANA LEGALIZATION. INITI...</td>\n      <td>457</td>\n      <td>1382525</td>\n      <td>NEW APPROACH PAC (MPO)</td>\n      <td>SUPPORT</td>\n    </tr>\n    <tr>\n      <th>76</th>\n      <td>ocd-contest/232cb72c-1b11-4293-b4e2-a181e80d172e</td>\n      <td>1381868</td>\n      <td>83</td>\n      <td>PROPOSITION 064- MARIJUANA LEGALIZATION. INITI...</td>\n      <td>458</td>\n      <td>1376077</td>\n      <td>CALIFORNIANS FOR SENSIBLE REFORM, SPONSORED BY...</td>\n      <td>SUPPORT</td>\n    </tr>\n    <tr>\n      <th>77</th>\n      <td>ocd-contest/232cb72c-1b11-4293-b4e2-a181e80d172e</td>\n      <td>1381868</td>\n      <td>83</td>\n      <td>PROPOSITION 064- MARIJUANA LEGALIZATION. INITI...</td>\n      <td>459</td>\n      <td>1382568</td>\n      <td>PUBLIC AND MENTAL HEALTH ADVOCATES AGAINST 64,...</td>\n      <td>OPPOSE</td>\n    </tr>\n    <tr>\n      <th>78</th>\n      <td>ocd-contest/232cb72c-1b11-4293-b4e2-a181e80d172e</td>\n      <td>1381868</td>\n      <td>83</td>\n      <td>PROPOSITION 064- MARIJUANA LEGALIZATION. INITI...</td>\n      <td>460</td>\n      <td>1371855</td>\n      <td>MARIJUANA POLICY PROJECT OF CALIFORNIA, YES ON 64</td>\n      <td>SUPPORT</td>\n    </tr>\n  </tbody>\n</table>\n</div>"
     },
     "metadata": {},
     "execution_count": 127
    }
   ],
   "source": [
    "mj_committees.head()"
   ]
  },
  {
   "cell_type": "markdown",
   "metadata": {},
   "source": [
    "Tie contributors to these committees"
   ]
  },
  {
   "cell_type": "code",
   "execution_count": 128,
   "metadata": {},
   "outputs": [],
   "source": [
    "merged = pd.merge(mj_committees, contrib_list, on=\"calaccess_committee_id\")"
   ]
  },
  {
   "cell_type": "code",
   "execution_count": 129,
   "metadata": {
    "tags": []
   },
   "outputs": [
    {
     "output_type": "stream",
     "name": "stdout",
     "text": "<class 'pandas.core.frame.DataFrame'>\nInt64Index: 860 entries, 0 to 859\nData columns (total 20 columns):\n #   Column                        Non-Null Count  Dtype  \n---  ------                        --------------  -----  \n 0   ocd_prop_id                   860 non-null    object \n 1   calaccess_prop_id             860 non-null    int64  \n 2   ccdc_prop_id                  860 non-null    int64  \n 3   prop_name                     860 non-null    object \n 4   ccdc_committee_id             860 non-null    int64  \n 5   calaccess_committee_id        860 non-null    int64  \n 6   committee_name_x              860 non-null    object \n 7   committee_position            860 non-null    object \n 8   committee_name_y              860 non-null    object \n 9   calaccess_filing_id           860 non-null    int64  \n 10  date_received                 860 non-null    object \n 11  contributor_lastname          860 non-null    object \n 12  contributor_firstname         750 non-null    object \n 13  contributor_city              860 non-null    object \n 14  contributor_state             860 non-null    object \n 15  contributor_zip               860 non-null    object \n 16  contributor_employer          657 non-null    object \n 17  contributor_occupation        742 non-null    object \n 18  contributor_is_self_employed  860 non-null    bool   \n 19  amount                        860 non-null    float64\ndtypes: bool(1), float64(1), int64(5), object(13)\nmemory usage: 135.2+ KB\n"
    }
   ],
   "source": [
    "merged.info()"
   ]
  },
  {
   "cell_type": "code",
   "execution_count": 130,
   "metadata": {},
   "outputs": [
    {
     "output_type": "execute_result",
     "data": {
      "text/plain": "                                        ocd_prop_id  calaccess_prop_id  \\\n0  ocd-contest/232cb72c-1b11-4293-b4e2-a181e80d172e            1381868   \n1  ocd-contest/232cb72c-1b11-4293-b4e2-a181e80d172e            1381868   \n2  ocd-contest/232cb72c-1b11-4293-b4e2-a181e80d172e            1381868   \n3  ocd-contest/232cb72c-1b11-4293-b4e2-a181e80d172e            1381868   \n4  ocd-contest/232cb72c-1b11-4293-b4e2-a181e80d172e            1381868   \n\n   ccdc_prop_id                                          prop_name  \\\n0            83  PROPOSITION 064- MARIJUANA LEGALIZATION. INITI...   \n1            83  PROPOSITION 064- MARIJUANA LEGALIZATION. INITI...   \n2            83  PROPOSITION 064- MARIJUANA LEGALIZATION. INITI...   \n3            83  PROPOSITION 064- MARIJUANA LEGALIZATION. INITI...   \n4            83  PROPOSITION 064- MARIJUANA LEGALIZATION. INITI...   \n\n   ccdc_committee_id  calaccess_committee_id  \\\n0                456                 1381808   \n1                456                 1381808   \n2                456                 1381808   \n3                456                 1381808   \n4                456                 1381808   \n\n                                    committee_name_x committee_position  \\\n0  YES ON 64, CALIFORNIANS TO CONTROL, REGULATE A...            SUPPORT   \n1  YES ON 64, CALIFORNIANS TO CONTROL, REGULATE A...            SUPPORT   \n2  YES ON 64, CALIFORNIANS TO CONTROL, REGULATE A...            SUPPORT   \n3  YES ON 64, CALIFORNIANS TO CONTROL, REGULATE A...            SUPPORT   \n4  YES ON 64, CALIFORNIANS TO CONTROL, REGULATE A...            SUPPORT   \n\n                                    committee_name_y  calaccess_filing_id  \\\n0  YES ON 64, CALIFORNIANS TO CONTROL, REGULATE A...              2038581   \n1  YES ON 64, CALIFORNIANS TO CONTROL, REGULATE A...              2038581   \n2  YES ON 64, CALIFORNIANS TO CONTROL, REGULATE A...              2038581   \n3  YES ON 64, CALIFORNIANS TO CONTROL, REGULATE A...              2038581   \n4  YES ON 64, CALIFORNIANS TO CONTROL, REGULATE A...              2038581   \n\n  date_received                               contributor_lastname  \\\n0    2016-02-04                                     BRADEN QUIGLEY   \n1    2016-01-05  CALIFORNIANS FOR SENSIBLE REFORM, SPONSORED BY...   \n2    2016-01-29  CALIFORNIANS FOR SENSIBLE REFORM, SPONSORED BY...   \n3    2016-03-28  CALIFORNIANS FOR SENSIBLE REFORM, SPONSORED BY...   \n4    2016-01-05                                 DRUG POLICY ACTION   \n\n  contributor_firstname contributor_city contributor_state contributor_zip  \\\n0                 LAURA       SACRAMENTO                CA           95825   \n1                   NaN           IRVINE                CA           92618   \n2                   NaN           IRVINE                CA           92618   \n3                   NaN           IRVINE                CA           92618   \n4                   NaN         NEW YORK                NY           10001   \n\n  contributor_employer contributor_occupation  contributor_is_self_employed  \\\n0       LBQ STRATEGIES             CONSULTANT                         False   \n1                  NaN                    NaN                         False   \n2                  NaN                    NaN                         False   \n3                  NaN                    NaN                         False   \n4                  NaN                    NaN                         False   \n\n     amount  \n0     100.0  \n1  250000.0  \n2  250000.0  \n3  250000.0  \n4  250000.0  ",
      "text/html": "<div>\n<style scoped>\n    .dataframe tbody tr th:only-of-type {\n        vertical-align: middle;\n    }\n\n    .dataframe tbody tr th {\n        vertical-align: top;\n    }\n\n    .dataframe thead th {\n        text-align: right;\n    }\n</style>\n<table border=\"1\" class=\"dataframe\">\n  <thead>\n    <tr style=\"text-align: right;\">\n      <th></th>\n      <th>ocd_prop_id</th>\n      <th>calaccess_prop_id</th>\n      <th>ccdc_prop_id</th>\n      <th>prop_name</th>\n      <th>ccdc_committee_id</th>\n      <th>calaccess_committee_id</th>\n      <th>committee_name_x</th>\n      <th>committee_position</th>\n      <th>committee_name_y</th>\n      <th>calaccess_filing_id</th>\n      <th>date_received</th>\n      <th>contributor_lastname</th>\n      <th>contributor_firstname</th>\n      <th>contributor_city</th>\n      <th>contributor_state</th>\n      <th>contributor_zip</th>\n      <th>contributor_employer</th>\n      <th>contributor_occupation</th>\n      <th>contributor_is_self_employed</th>\n      <th>amount</th>\n    </tr>\n  </thead>\n  <tbody>\n    <tr>\n      <th>0</th>\n      <td>ocd-contest/232cb72c-1b11-4293-b4e2-a181e80d172e</td>\n      <td>1381868</td>\n      <td>83</td>\n      <td>PROPOSITION 064- MARIJUANA LEGALIZATION. INITI...</td>\n      <td>456</td>\n      <td>1381808</td>\n      <td>YES ON 64, CALIFORNIANS TO CONTROL, REGULATE A...</td>\n      <td>SUPPORT</td>\n      <td>YES ON 64, CALIFORNIANS TO CONTROL, REGULATE A...</td>\n      <td>2038581</td>\n      <td>2016-02-04</td>\n      <td>BRADEN QUIGLEY</td>\n      <td>LAURA</td>\n      <td>SACRAMENTO</td>\n      <td>CA</td>\n      <td>95825</td>\n      <td>LBQ STRATEGIES</td>\n      <td>CONSULTANT</td>\n      <td>False</td>\n      <td>100.0</td>\n    </tr>\n    <tr>\n      <th>1</th>\n      <td>ocd-contest/232cb72c-1b11-4293-b4e2-a181e80d172e</td>\n      <td>1381868</td>\n      <td>83</td>\n      <td>PROPOSITION 064- MARIJUANA LEGALIZATION. INITI...</td>\n      <td>456</td>\n      <td>1381808</td>\n      <td>YES ON 64, CALIFORNIANS TO CONTROL, REGULATE A...</td>\n      <td>SUPPORT</td>\n      <td>YES ON 64, CALIFORNIANS TO CONTROL, REGULATE A...</td>\n      <td>2038581</td>\n      <td>2016-01-05</td>\n      <td>CALIFORNIANS FOR SENSIBLE REFORM, SPONSORED BY...</td>\n      <td>NaN</td>\n      <td>IRVINE</td>\n      <td>CA</td>\n      <td>92618</td>\n      <td>NaN</td>\n      <td>NaN</td>\n      <td>False</td>\n      <td>250000.0</td>\n    </tr>\n    <tr>\n      <th>2</th>\n      <td>ocd-contest/232cb72c-1b11-4293-b4e2-a181e80d172e</td>\n      <td>1381868</td>\n      <td>83</td>\n      <td>PROPOSITION 064- MARIJUANA LEGALIZATION. INITI...</td>\n      <td>456</td>\n      <td>1381808</td>\n      <td>YES ON 64, CALIFORNIANS TO CONTROL, REGULATE A...</td>\n      <td>SUPPORT</td>\n      <td>YES ON 64, CALIFORNIANS TO CONTROL, REGULATE A...</td>\n      <td>2038581</td>\n      <td>2016-01-29</td>\n      <td>CALIFORNIANS FOR SENSIBLE REFORM, SPONSORED BY...</td>\n      <td>NaN</td>\n      <td>IRVINE</td>\n      <td>CA</td>\n      <td>92618</td>\n      <td>NaN</td>\n      <td>NaN</td>\n      <td>False</td>\n      <td>250000.0</td>\n    </tr>\n    <tr>\n      <th>3</th>\n      <td>ocd-contest/232cb72c-1b11-4293-b4e2-a181e80d172e</td>\n      <td>1381868</td>\n      <td>83</td>\n      <td>PROPOSITION 064- MARIJUANA LEGALIZATION. INITI...</td>\n      <td>456</td>\n      <td>1381808</td>\n      <td>YES ON 64, CALIFORNIANS TO CONTROL, REGULATE A...</td>\n      <td>SUPPORT</td>\n      <td>YES ON 64, CALIFORNIANS TO CONTROL, REGULATE A...</td>\n      <td>2038581</td>\n      <td>2016-03-28</td>\n      <td>CALIFORNIANS FOR SENSIBLE REFORM, SPONSORED BY...</td>\n      <td>NaN</td>\n      <td>IRVINE</td>\n      <td>CA</td>\n      <td>92618</td>\n      <td>NaN</td>\n      <td>NaN</td>\n      <td>False</td>\n      <td>250000.0</td>\n    </tr>\n    <tr>\n      <th>4</th>\n      <td>ocd-contest/232cb72c-1b11-4293-b4e2-a181e80d172e</td>\n      <td>1381868</td>\n      <td>83</td>\n      <td>PROPOSITION 064- MARIJUANA LEGALIZATION. INITI...</td>\n      <td>456</td>\n      <td>1381808</td>\n      <td>YES ON 64, CALIFORNIANS TO CONTROL, REGULATE A...</td>\n      <td>SUPPORT</td>\n      <td>YES ON 64, CALIFORNIANS TO CONTROL, REGULATE A...</td>\n      <td>2038581</td>\n      <td>2016-01-05</td>\n      <td>DRUG POLICY ACTION</td>\n      <td>NaN</td>\n      <td>NEW YORK</td>\n      <td>NY</td>\n      <td>10001</td>\n      <td>NaN</td>\n      <td>NaN</td>\n      <td>False</td>\n      <td>250000.0</td>\n    </tr>\n  </tbody>\n</table>\n</div>"
     },
     "metadata": {},
     "execution_count": 130
    }
   ],
   "source": [
    "merged.head()"
   ]
  },
  {
   "cell_type": "markdown",
   "metadata": {},
   "source": [
    "### What was the total amount of prop 64 contributions?"
   ]
  },
  {
   "cell_type": "code",
   "execution_count": 131,
   "metadata": {},
   "outputs": [
    {
     "output_type": "execute_result",
     "data": {
      "text/plain": "35177017.64"
     },
     "metadata": {},
     "execution_count": 131
    }
   ],
   "source": [
    "merged.amount.sum()"
   ]
  },
  {
   "cell_type": "markdown",
   "metadata": {},
   "source": [
    "Note this total is missing all donors who gave less than $100"
   ]
  },
  {
   "cell_type": "code",
   "execution_count": 132,
   "metadata": {},
   "outputs": [],
   "source": [
    "# need to fill na to deal with pandas groupby dropping nulls in grouping fields\n",
    "merged = merged.fillna(\"\")"
   ]
  },
  {
   "cell_type": "markdown",
   "metadata": {},
   "source": [
    "### Were there more donations in support of or opposed to prop 64?"
   ]
  },
  {
   "cell_type": "code",
   "execution_count": 133,
   "metadata": {},
   "outputs": [
    {
     "output_type": "execute_result",
     "data": {
      "text/plain": "SUPPORT    762\nOPPOSE      98\nName: committee_position, dtype: int64"
     },
     "metadata": {},
     "execution_count": 133
    }
   ],
   "source": [
    "merged.committee_position.value_counts()"
   ]
  },
  {
   "cell_type": "code",
   "execution_count": 134,
   "metadata": {},
   "outputs": [],
   "source": [
    "support = merged[merged.committee_position == 'SUPPORT']"
   ]
  },
  {
   "cell_type": "code",
   "execution_count": 135,
   "metadata": {},
   "outputs": [],
   "source": [
    "oppose = merged[merged.committee_position == \"OPPOSE\"]"
   ]
  },
  {
   "cell_type": "code",
   "execution_count": 136,
   "metadata": {},
   "outputs": [
    {
     "output_type": "execute_result",
     "data": {
      "text/plain": "32675806.0"
     },
     "metadata": {},
     "execution_count": 136
    }
   ],
   "source": [
    "support.amount.sum()"
   ]
  },
  {
   "cell_type": "code",
   "execution_count": 137,
   "metadata": {},
   "outputs": [
    {
     "output_type": "execute_result",
     "data": {
      "text/plain": "2501211.64"
     },
     "metadata": {},
     "execution_count": 137
    }
   ],
   "source": [
    "oppose.amount.sum()"
   ]
  },
  {
   "cell_type": "code",
   "execution_count": 138,
   "metadata": {},
   "outputs": [
    {
     "output_type": "execute_result",
     "data": {
      "text/plain": "0.9288964270479867"
     },
     "metadata": {},
     "execution_count": 138
    }
   ],
   "source": [
    "support.amount.sum() / merged.amount.sum()"
   ]
  },
  {
   "cell_type": "markdown",
   "metadata": {},
   "source": [
    "93% of all contributions (> $100) related to prop 64 were in support."
   ]
  },
  {
   "cell_type": "markdown",
   "metadata": {},
   "source": [
    "### What were the 10 biggest contributions?"
   ]
  },
  {
   "cell_type": "code",
   "execution_count": 139,
   "metadata": {},
   "outputs": [
    {
     "output_type": "execute_result",
     "data": {
      "text/plain": "                                          ocd_prop_id  calaccess_prop_id  \\\n142  ocd-contest/232cb72c-1b11-4293-b4e2-a181e80d172e            1381868   \n79   ocd-contest/232cb72c-1b11-4293-b4e2-a181e80d172e            1381868   \n846  ocd-contest/232cb72c-1b11-4293-b4e2-a181e80d172e            1381868   \n851  ocd-contest/232cb72c-1b11-4293-b4e2-a181e80d172e            1381868   \n852  ocd-contest/232cb72c-1b11-4293-b4e2-a181e80d172e            1381868   \n\n     ccdc_prop_id                                          prop_name  \\\n142            83  PROPOSITION 064- MARIJUANA LEGALIZATION. INITI...   \n79             83  PROPOSITION 064- MARIJUANA LEGALIZATION. INITI...   \n846            83  PROPOSITION 064- MARIJUANA LEGALIZATION. INITI...   \n851            83  PROPOSITION 064- MARIJUANA LEGALIZATION. INITI...   \n852            83  PROPOSITION 064- MARIJUANA LEGALIZATION. INITI...   \n\n     ccdc_committee_id  calaccess_committee_id  \\\n142                456                 1381808   \n79                 456                 1381808   \n846                464                 1385506   \n851                465                 1385745   \n852                465                 1385745   \n\n                                      committee_name_x committee_position  \\\n142  YES ON 64, CALIFORNIANS TO CONTROL, REGULATE A...            SUPPORT   \n79   YES ON 64, CALIFORNIANS TO CONTROL, REGULATE A...            SUPPORT   \n846  DRUG POLICY ACTION - NON PROFIT 501C4, YES ON ...            SUPPORT   \n851       FUND FOR POLICY REFORM (NONPROFIT 501(C)(4))            SUPPORT   \n852       FUND FOR POLICY REFORM (NONPROFIT 501(C)(4))            SUPPORT   \n\n                                      committee_name_y  calaccess_filing_id  \\\n142  YES ON 64, CALIFORNIANS TO CONTROL, REGULATE A...              2083528   \n79   YES ON 64, CALIFORNIANS TO CONTROL, REGULATE A...              2083528   \n846  DRUG POLICY ACTION - NON PROFIT 501C4, YES ON ...              2083608   \n851       FUND FOR POLICY REFORM (NONPROFIT 501(C)(4))              2082414   \n852       FUND FOR POLICY REFORM (NONPROFIT 501(C)(4))              2096507   \n\n    date_received                               contributor_lastname  \\\n142    2016-09-15                     PARKER AND AFFILIATED ENTITIES   \n79     2016-09-15  DRUG POLICY ACTION - NON PROFIT 501C4, YES ON ...   \n846    2016-09-15      FUND FOR POLICY REFORM (NONPROFIT 501 (C)(4))   \n851    2016-09-15                             FUND FOR POLICY REFORM   \n852    2016-09-27                             FUND FOR POLICY REFORM   \n\n    contributor_firstname contributor_city contributor_state contributor_zip  \\\n142                  SEAN        PALO ALTO                CA           94301   \n79                              SACRAMENTO                CA           95815   \n846                               NEW YORK                NY           10019   \n851                             WILMINGTON                DE           19809   \n852                             WILMINGTON                DE           19809   \n\n    contributor_employer contributor_occupation  contributor_is_self_employed  \\\n142                                                                     False   \n79                                                                      False   \n846                                                                     False   \n851                                                                     False   \n852                                                                     False   \n\n        amount  \n142  4000000.0  \n79   2000000.0  \n846  1970000.0  \n851  1970000.0  \n852  1403000.0  ",
      "text/html": "<div>\n<style scoped>\n    .dataframe tbody tr th:only-of-type {\n        vertical-align: middle;\n    }\n\n    .dataframe tbody tr th {\n        vertical-align: top;\n    }\n\n    .dataframe thead th {\n        text-align: right;\n    }\n</style>\n<table border=\"1\" class=\"dataframe\">\n  <thead>\n    <tr style=\"text-align: right;\">\n      <th></th>\n      <th>ocd_prop_id</th>\n      <th>calaccess_prop_id</th>\n      <th>ccdc_prop_id</th>\n      <th>prop_name</th>\n      <th>ccdc_committee_id</th>\n      <th>calaccess_committee_id</th>\n      <th>committee_name_x</th>\n      <th>committee_position</th>\n      <th>committee_name_y</th>\n      <th>calaccess_filing_id</th>\n      <th>date_received</th>\n      <th>contributor_lastname</th>\n      <th>contributor_firstname</th>\n      <th>contributor_city</th>\n      <th>contributor_state</th>\n      <th>contributor_zip</th>\n      <th>contributor_employer</th>\n      <th>contributor_occupation</th>\n      <th>contributor_is_self_employed</th>\n      <th>amount</th>\n    </tr>\n  </thead>\n  <tbody>\n    <tr>\n      <th>142</th>\n      <td>ocd-contest/232cb72c-1b11-4293-b4e2-a181e80d172e</td>\n      <td>1381868</td>\n      <td>83</td>\n      <td>PROPOSITION 064- MARIJUANA LEGALIZATION. INITI...</td>\n      <td>456</td>\n      <td>1381808</td>\n      <td>YES ON 64, CALIFORNIANS TO CONTROL, REGULATE A...</td>\n      <td>SUPPORT</td>\n      <td>YES ON 64, CALIFORNIANS TO CONTROL, REGULATE A...</td>\n      <td>2083528</td>\n      <td>2016-09-15</td>\n      <td>PARKER AND AFFILIATED ENTITIES</td>\n      <td>SEAN</td>\n      <td>PALO ALTO</td>\n      <td>CA</td>\n      <td>94301</td>\n      <td></td>\n      <td></td>\n      <td>False</td>\n      <td>4000000.0</td>\n    </tr>\n    <tr>\n      <th>79</th>\n      <td>ocd-contest/232cb72c-1b11-4293-b4e2-a181e80d172e</td>\n      <td>1381868</td>\n      <td>83</td>\n      <td>PROPOSITION 064- MARIJUANA LEGALIZATION. INITI...</td>\n      <td>456</td>\n      <td>1381808</td>\n      <td>YES ON 64, CALIFORNIANS TO CONTROL, REGULATE A...</td>\n      <td>SUPPORT</td>\n      <td>YES ON 64, CALIFORNIANS TO CONTROL, REGULATE A...</td>\n      <td>2083528</td>\n      <td>2016-09-15</td>\n      <td>DRUG POLICY ACTION - NON PROFIT 501C4, YES ON ...</td>\n      <td></td>\n      <td>SACRAMENTO</td>\n      <td>CA</td>\n      <td>95815</td>\n      <td></td>\n      <td></td>\n      <td>False</td>\n      <td>2000000.0</td>\n    </tr>\n    <tr>\n      <th>846</th>\n      <td>ocd-contest/232cb72c-1b11-4293-b4e2-a181e80d172e</td>\n      <td>1381868</td>\n      <td>83</td>\n      <td>PROPOSITION 064- MARIJUANA LEGALIZATION. INITI...</td>\n      <td>464</td>\n      <td>1385506</td>\n      <td>DRUG POLICY ACTION - NON PROFIT 501C4, YES ON ...</td>\n      <td>SUPPORT</td>\n      <td>DRUG POLICY ACTION - NON PROFIT 501C4, YES ON ...</td>\n      <td>2083608</td>\n      <td>2016-09-15</td>\n      <td>FUND FOR POLICY REFORM (NONPROFIT 501 (C)(4))</td>\n      <td></td>\n      <td>NEW YORK</td>\n      <td>NY</td>\n      <td>10019</td>\n      <td></td>\n      <td></td>\n      <td>False</td>\n      <td>1970000.0</td>\n    </tr>\n    <tr>\n      <th>851</th>\n      <td>ocd-contest/232cb72c-1b11-4293-b4e2-a181e80d172e</td>\n      <td>1381868</td>\n      <td>83</td>\n      <td>PROPOSITION 064- MARIJUANA LEGALIZATION. INITI...</td>\n      <td>465</td>\n      <td>1385745</td>\n      <td>FUND FOR POLICY REFORM (NONPROFIT 501(C)(4))</td>\n      <td>SUPPORT</td>\n      <td>FUND FOR POLICY REFORM (NONPROFIT 501(C)(4))</td>\n      <td>2082414</td>\n      <td>2016-09-15</td>\n      <td>FUND FOR POLICY REFORM</td>\n      <td></td>\n      <td>WILMINGTON</td>\n      <td>DE</td>\n      <td>19809</td>\n      <td></td>\n      <td></td>\n      <td>False</td>\n      <td>1970000.0</td>\n    </tr>\n    <tr>\n      <th>852</th>\n      <td>ocd-contest/232cb72c-1b11-4293-b4e2-a181e80d172e</td>\n      <td>1381868</td>\n      <td>83</td>\n      <td>PROPOSITION 064- MARIJUANA LEGALIZATION. INITI...</td>\n      <td>465</td>\n      <td>1385745</td>\n      <td>FUND FOR POLICY REFORM (NONPROFIT 501(C)(4))</td>\n      <td>SUPPORT</td>\n      <td>FUND FOR POLICY REFORM (NONPROFIT 501(C)(4))</td>\n      <td>2096507</td>\n      <td>2016-09-27</td>\n      <td>FUND FOR POLICY REFORM</td>\n      <td></td>\n      <td>WILMINGTON</td>\n      <td>DE</td>\n      <td>19809</td>\n      <td></td>\n      <td></td>\n      <td>False</td>\n      <td>1403000.0</td>\n    </tr>\n  </tbody>\n</table>\n</div>"
     },
     "metadata": {},
     "execution_count": 139
    }
   ],
   "source": [
    "merged.sort_values(\"amount\", ascending=False).head()"
   ]
  },
  {
   "cell_type": "code",
   "execution_count": 140,
   "metadata": {},
   "outputs": [
    {
     "output_type": "execute_result",
     "data": {
      "text/plain": "                                          ocd_prop_id  calaccess_prop_id  \\\n142  ocd-contest/232cb72c-1b11-4293-b4e2-a181e80d172e            1381868   \n79   ocd-contest/232cb72c-1b11-4293-b4e2-a181e80d172e            1381868   \n851  ocd-contest/232cb72c-1b11-4293-b4e2-a181e80d172e            1381868   \n846  ocd-contest/232cb72c-1b11-4293-b4e2-a181e80d172e            1381868   \n852  ocd-contest/232cb72c-1b11-4293-b4e2-a181e80d172e            1381868   \n\n     ccdc_prop_id                                          prop_name  \\\n142            83  PROPOSITION 064- MARIJUANA LEGALIZATION. INITI...   \n79             83  PROPOSITION 064- MARIJUANA LEGALIZATION. INITI...   \n851            83  PROPOSITION 064- MARIJUANA LEGALIZATION. INITI...   \n846            83  PROPOSITION 064- MARIJUANA LEGALIZATION. INITI...   \n852            83  PROPOSITION 064- MARIJUANA LEGALIZATION. INITI...   \n\n     ccdc_committee_id  calaccess_committee_id  \\\n142                456                 1381808   \n79                 456                 1381808   \n851                465                 1385745   \n846                464                 1385506   \n852                465                 1385745   \n\n                                      committee_name_x committee_position  \\\n142  YES ON 64, CALIFORNIANS TO CONTROL, REGULATE A...            SUPPORT   \n79   YES ON 64, CALIFORNIANS TO CONTROL, REGULATE A...            SUPPORT   \n851       FUND FOR POLICY REFORM (NONPROFIT 501(C)(4))            SUPPORT   \n846  DRUG POLICY ACTION - NON PROFIT 501C4, YES ON ...            SUPPORT   \n852       FUND FOR POLICY REFORM (NONPROFIT 501(C)(4))            SUPPORT   \n\n                                      committee_name_y  calaccess_filing_id  \\\n142  YES ON 64, CALIFORNIANS TO CONTROL, REGULATE A...              2083528   \n79   YES ON 64, CALIFORNIANS TO CONTROL, REGULATE A...              2083528   \n851       FUND FOR POLICY REFORM (NONPROFIT 501(C)(4))              2082414   \n846  DRUG POLICY ACTION - NON PROFIT 501C4, YES ON ...              2083608   \n852       FUND FOR POLICY REFORM (NONPROFIT 501(C)(4))              2096507   \n\n    date_received                               contributor_lastname  \\\n142    2016-09-15                     PARKER AND AFFILIATED ENTITIES   \n79     2016-09-15  DRUG POLICY ACTION - NON PROFIT 501C4, YES ON ...   \n851    2016-09-15                             FUND FOR POLICY REFORM   \n846    2016-09-15      FUND FOR POLICY REFORM (NONPROFIT 501 (C)(4))   \n852    2016-09-27                             FUND FOR POLICY REFORM   \n\n    contributor_firstname contributor_city contributor_state contributor_zip  \\\n142                  SEAN        PALO ALTO                CA           94301   \n79                              SACRAMENTO                CA           95815   \n851                             WILMINGTON                DE           19809   \n846                               NEW YORK                NY           10019   \n852                             WILMINGTON                DE           19809   \n\n    contributor_employer contributor_occupation  contributor_is_self_employed  \\\n142                                                                     False   \n79                                                                      False   \n851                                                                     False   \n846                                                                     False   \n852                                                                     False   \n\n        amount  \n142  4000000.0  \n79   2000000.0  \n851  1970000.0  \n846  1970000.0  \n852  1403000.0  ",
      "text/html": "<div>\n<style scoped>\n    .dataframe tbody tr th:only-of-type {\n        vertical-align: middle;\n    }\n\n    .dataframe tbody tr th {\n        vertical-align: top;\n    }\n\n    .dataframe thead th {\n        text-align: right;\n    }\n</style>\n<table border=\"1\" class=\"dataframe\">\n  <thead>\n    <tr style=\"text-align: right;\">\n      <th></th>\n      <th>ocd_prop_id</th>\n      <th>calaccess_prop_id</th>\n      <th>ccdc_prop_id</th>\n      <th>prop_name</th>\n      <th>ccdc_committee_id</th>\n      <th>calaccess_committee_id</th>\n      <th>committee_name_x</th>\n      <th>committee_position</th>\n      <th>committee_name_y</th>\n      <th>calaccess_filing_id</th>\n      <th>date_received</th>\n      <th>contributor_lastname</th>\n      <th>contributor_firstname</th>\n      <th>contributor_city</th>\n      <th>contributor_state</th>\n      <th>contributor_zip</th>\n      <th>contributor_employer</th>\n      <th>contributor_occupation</th>\n      <th>contributor_is_self_employed</th>\n      <th>amount</th>\n    </tr>\n  </thead>\n  <tbody>\n    <tr>\n      <th>142</th>\n      <td>ocd-contest/232cb72c-1b11-4293-b4e2-a181e80d172e</td>\n      <td>1381868</td>\n      <td>83</td>\n      <td>PROPOSITION 064- MARIJUANA LEGALIZATION. INITI...</td>\n      <td>456</td>\n      <td>1381808</td>\n      <td>YES ON 64, CALIFORNIANS TO CONTROL, REGULATE A...</td>\n      <td>SUPPORT</td>\n      <td>YES ON 64, CALIFORNIANS TO CONTROL, REGULATE A...</td>\n      <td>2083528</td>\n      <td>2016-09-15</td>\n      <td>PARKER AND AFFILIATED ENTITIES</td>\n      <td>SEAN</td>\n      <td>PALO ALTO</td>\n      <td>CA</td>\n      <td>94301</td>\n      <td></td>\n      <td></td>\n      <td>False</td>\n      <td>4000000.0</td>\n    </tr>\n    <tr>\n      <th>79</th>\n      <td>ocd-contest/232cb72c-1b11-4293-b4e2-a181e80d172e</td>\n      <td>1381868</td>\n      <td>83</td>\n      <td>PROPOSITION 064- MARIJUANA LEGALIZATION. INITI...</td>\n      <td>456</td>\n      <td>1381808</td>\n      <td>YES ON 64, CALIFORNIANS TO CONTROL, REGULATE A...</td>\n      <td>SUPPORT</td>\n      <td>YES ON 64, CALIFORNIANS TO CONTROL, REGULATE A...</td>\n      <td>2083528</td>\n      <td>2016-09-15</td>\n      <td>DRUG POLICY ACTION - NON PROFIT 501C4, YES ON ...</td>\n      <td></td>\n      <td>SACRAMENTO</td>\n      <td>CA</td>\n      <td>95815</td>\n      <td></td>\n      <td></td>\n      <td>False</td>\n      <td>2000000.0</td>\n    </tr>\n    <tr>\n      <th>851</th>\n      <td>ocd-contest/232cb72c-1b11-4293-b4e2-a181e80d172e</td>\n      <td>1381868</td>\n      <td>83</td>\n      <td>PROPOSITION 064- MARIJUANA LEGALIZATION. INITI...</td>\n      <td>465</td>\n      <td>1385745</td>\n      <td>FUND FOR POLICY REFORM (NONPROFIT 501(C)(4))</td>\n      <td>SUPPORT</td>\n      <td>FUND FOR POLICY REFORM (NONPROFIT 501(C)(4))</td>\n      <td>2082414</td>\n      <td>2016-09-15</td>\n      <td>FUND FOR POLICY REFORM</td>\n      <td></td>\n      <td>WILMINGTON</td>\n      <td>DE</td>\n      <td>19809</td>\n      <td></td>\n      <td></td>\n      <td>False</td>\n      <td>1970000.0</td>\n    </tr>\n    <tr>\n      <th>846</th>\n      <td>ocd-contest/232cb72c-1b11-4293-b4e2-a181e80d172e</td>\n      <td>1381868</td>\n      <td>83</td>\n      <td>PROPOSITION 064- MARIJUANA LEGALIZATION. INITI...</td>\n      <td>464</td>\n      <td>1385506</td>\n      <td>DRUG POLICY ACTION - NON PROFIT 501C4, YES ON ...</td>\n      <td>SUPPORT</td>\n      <td>DRUG POLICY ACTION - NON PROFIT 501C4, YES ON ...</td>\n      <td>2083608</td>\n      <td>2016-09-15</td>\n      <td>FUND FOR POLICY REFORM (NONPROFIT 501 (C)(4))</td>\n      <td></td>\n      <td>NEW YORK</td>\n      <td>NY</td>\n      <td>10019</td>\n      <td></td>\n      <td></td>\n      <td>False</td>\n      <td>1970000.0</td>\n    </tr>\n    <tr>\n      <th>852</th>\n      <td>ocd-contest/232cb72c-1b11-4293-b4e2-a181e80d172e</td>\n      <td>1381868</td>\n      <td>83</td>\n      <td>PROPOSITION 064- MARIJUANA LEGALIZATION. INITI...</td>\n      <td>465</td>\n      <td>1385745</td>\n      <td>FUND FOR POLICY REFORM (NONPROFIT 501(C)(4))</td>\n      <td>SUPPORT</td>\n      <td>FUND FOR POLICY REFORM (NONPROFIT 501(C)(4))</td>\n      <td>2096507</td>\n      <td>2016-09-27</td>\n      <td>FUND FOR POLICY REFORM</td>\n      <td></td>\n      <td>WILMINGTON</td>\n      <td>DE</td>\n      <td>19809</td>\n      <td></td>\n      <td></td>\n      <td>False</td>\n      <td>1403000.0</td>\n    </tr>\n  </tbody>\n</table>\n</div>"
     },
     "metadata": {},
     "execution_count": 140
    }
   ],
   "source": [
    "support.sort_values(\"amount\", ascending=False).head()"
   ]
  },
  {
   "cell_type": "code",
   "execution_count": 141,
   "metadata": {},
   "outputs": [
    {
     "output_type": "execute_result",
     "data": {
      "text/plain": "                                          ocd_prop_id  calaccess_prop_id  \\\n839  ocd-contest/232cb72c-1b11-4293-b4e2-a181e80d172e            1381868   \n312  ocd-contest/232cb72c-1b11-4293-b4e2-a181e80d172e            1381868   \n310  ocd-contest/232cb72c-1b11-4293-b4e2-a181e80d172e            1381868   \n308  ocd-contest/232cb72c-1b11-4293-b4e2-a181e80d172e            1381868   \n840  ocd-contest/232cb72c-1b11-4293-b4e2-a181e80d172e            1381868   \n\n     ccdc_prop_id                                          prop_name  \\\n839            83  PROPOSITION 064- MARIJUANA LEGALIZATION. INITI...   \n312            83  PROPOSITION 064- MARIJUANA LEGALIZATION. INITI...   \n310            83  PROPOSITION 064- MARIJUANA LEGALIZATION. INITI...   \n308            83  PROPOSITION 064- MARIJUANA LEGALIZATION. INITI...   \n840            83  PROPOSITION 064- MARIJUANA LEGALIZATION. INITI...   \n\n     ccdc_committee_id  calaccess_committee_id  \\\n839                463                 1387789   \n312                459                 1382568   \n310                459                 1382568   \n308                459                 1382568   \n840                463                 1387789   \n\n                                      committee_name_x committee_position  \\\n839  SAM ACTION, INC., A COMMITTEE AGAINST PROPOSIT...             OPPOSE   \n312  PUBLIC AND MENTAL HEALTH ADVOCATES AGAINST 64,...             OPPOSE   \n310  PUBLIC AND MENTAL HEALTH ADVOCATES AGAINST 64,...             OPPOSE   \n308  PUBLIC AND MENTAL HEALTH ADVOCATES AGAINST 64,...             OPPOSE   \n840  SAM ACTION, INC., A COMMITTEE AGAINST PROPOSIT...             OPPOSE   \n\n                                      committee_name_y  calaccess_filing_id  \\\n839  SAM ACTION, INC., A COMMITTEE AGAINST PROPOSIT...              2083142   \n312  PUBLIC AND MENTAL HEALTH ADVOCATES AGAINST 64,...              2098048   \n310  PUBLIC AND MENTAL HEALTH ADVOCATES AGAINST 64,...              2083071   \n308  PUBLIC AND MENTAL HEALTH ADVOCATES AGAINST 64,...              2083071   \n840  SAM ACTION, INC., A COMMITTEE AGAINST PROPOSIT...              2083142   \n\n    date_received contributor_lastname contributor_firstname contributor_city  \\\n839    2016-07-20              SCHAUER                 JULIE             OAKS   \n312    2016-09-27     SAM ACTION, INC.                             ALEXANDRIA   \n310    2016-09-15     SAM ACTION, INC.                             ALEXANDRIA   \n308    2016-09-12     SAM ACTION, INC.                             ALEXANDRIA   \n840    2016-07-25              SCHAUER                 JULIE             OAKS   \n\n    contributor_state contributor_zip contributor_employer  \\\n839                PA           19456                        \n312                VA           22314                        \n310                VA           22314                        \n308                VA           22314                        \n840                CA           19456                        \n\n    contributor_occupation  contributor_is_self_employed     amount  \n839                RETIRED                         False  1000000.0  \n312                                                False   400000.0  \n310                                                False   225000.0  \n308                                                False   200000.0  \n840                RETIRED                         False   150000.0  ",
      "text/html": "<div>\n<style scoped>\n    .dataframe tbody tr th:only-of-type {\n        vertical-align: middle;\n    }\n\n    .dataframe tbody tr th {\n        vertical-align: top;\n    }\n\n    .dataframe thead th {\n        text-align: right;\n    }\n</style>\n<table border=\"1\" class=\"dataframe\">\n  <thead>\n    <tr style=\"text-align: right;\">\n      <th></th>\n      <th>ocd_prop_id</th>\n      <th>calaccess_prop_id</th>\n      <th>ccdc_prop_id</th>\n      <th>prop_name</th>\n      <th>ccdc_committee_id</th>\n      <th>calaccess_committee_id</th>\n      <th>committee_name_x</th>\n      <th>committee_position</th>\n      <th>committee_name_y</th>\n      <th>calaccess_filing_id</th>\n      <th>date_received</th>\n      <th>contributor_lastname</th>\n      <th>contributor_firstname</th>\n      <th>contributor_city</th>\n      <th>contributor_state</th>\n      <th>contributor_zip</th>\n      <th>contributor_employer</th>\n      <th>contributor_occupation</th>\n      <th>contributor_is_self_employed</th>\n      <th>amount</th>\n    </tr>\n  </thead>\n  <tbody>\n    <tr>\n      <th>839</th>\n      <td>ocd-contest/232cb72c-1b11-4293-b4e2-a181e80d172e</td>\n      <td>1381868</td>\n      <td>83</td>\n      <td>PROPOSITION 064- MARIJUANA LEGALIZATION. INITI...</td>\n      <td>463</td>\n      <td>1387789</td>\n      <td>SAM ACTION, INC., A COMMITTEE AGAINST PROPOSIT...</td>\n      <td>OPPOSE</td>\n      <td>SAM ACTION, INC., A COMMITTEE AGAINST PROPOSIT...</td>\n      <td>2083142</td>\n      <td>2016-07-20</td>\n      <td>SCHAUER</td>\n      <td>JULIE</td>\n      <td>OAKS</td>\n      <td>PA</td>\n      <td>19456</td>\n      <td></td>\n      <td>RETIRED</td>\n      <td>False</td>\n      <td>1000000.0</td>\n    </tr>\n    <tr>\n      <th>312</th>\n      <td>ocd-contest/232cb72c-1b11-4293-b4e2-a181e80d172e</td>\n      <td>1381868</td>\n      <td>83</td>\n      <td>PROPOSITION 064- MARIJUANA LEGALIZATION. INITI...</td>\n      <td>459</td>\n      <td>1382568</td>\n      <td>PUBLIC AND MENTAL HEALTH ADVOCATES AGAINST 64,...</td>\n      <td>OPPOSE</td>\n      <td>PUBLIC AND MENTAL HEALTH ADVOCATES AGAINST 64,...</td>\n      <td>2098048</td>\n      <td>2016-09-27</td>\n      <td>SAM ACTION, INC.</td>\n      <td></td>\n      <td>ALEXANDRIA</td>\n      <td>VA</td>\n      <td>22314</td>\n      <td></td>\n      <td></td>\n      <td>False</td>\n      <td>400000.0</td>\n    </tr>\n    <tr>\n      <th>310</th>\n      <td>ocd-contest/232cb72c-1b11-4293-b4e2-a181e80d172e</td>\n      <td>1381868</td>\n      <td>83</td>\n      <td>PROPOSITION 064- MARIJUANA LEGALIZATION. INITI...</td>\n      <td>459</td>\n      <td>1382568</td>\n      <td>PUBLIC AND MENTAL HEALTH ADVOCATES AGAINST 64,...</td>\n      <td>OPPOSE</td>\n      <td>PUBLIC AND MENTAL HEALTH ADVOCATES AGAINST 64,...</td>\n      <td>2083071</td>\n      <td>2016-09-15</td>\n      <td>SAM ACTION, INC.</td>\n      <td></td>\n      <td>ALEXANDRIA</td>\n      <td>VA</td>\n      <td>22314</td>\n      <td></td>\n      <td></td>\n      <td>False</td>\n      <td>225000.0</td>\n    </tr>\n    <tr>\n      <th>308</th>\n      <td>ocd-contest/232cb72c-1b11-4293-b4e2-a181e80d172e</td>\n      <td>1381868</td>\n      <td>83</td>\n      <td>PROPOSITION 064- MARIJUANA LEGALIZATION. INITI...</td>\n      <td>459</td>\n      <td>1382568</td>\n      <td>PUBLIC AND MENTAL HEALTH ADVOCATES AGAINST 64,...</td>\n      <td>OPPOSE</td>\n      <td>PUBLIC AND MENTAL HEALTH ADVOCATES AGAINST 64,...</td>\n      <td>2083071</td>\n      <td>2016-09-12</td>\n      <td>SAM ACTION, INC.</td>\n      <td></td>\n      <td>ALEXANDRIA</td>\n      <td>VA</td>\n      <td>22314</td>\n      <td></td>\n      <td></td>\n      <td>False</td>\n      <td>200000.0</td>\n    </tr>\n    <tr>\n      <th>840</th>\n      <td>ocd-contest/232cb72c-1b11-4293-b4e2-a181e80d172e</td>\n      <td>1381868</td>\n      <td>83</td>\n      <td>PROPOSITION 064- MARIJUANA LEGALIZATION. INITI...</td>\n      <td>463</td>\n      <td>1387789</td>\n      <td>SAM ACTION, INC., A COMMITTEE AGAINST PROPOSIT...</td>\n      <td>OPPOSE</td>\n      <td>SAM ACTION, INC., A COMMITTEE AGAINST PROPOSIT...</td>\n      <td>2083142</td>\n      <td>2016-07-25</td>\n      <td>SCHAUER</td>\n      <td>JULIE</td>\n      <td>OAKS</td>\n      <td>CA</td>\n      <td>19456</td>\n      <td></td>\n      <td>RETIRED</td>\n      <td>False</td>\n      <td>150000.0</td>\n    </tr>\n  </tbody>\n</table>\n</div>"
     },
     "metadata": {},
     "execution_count": 141
    }
   ],
   "source": [
    "oppose.sort_values(\"amount\", ascending=False).head()"
   ]
  },
  {
   "cell_type": "markdown",
   "metadata": {},
   "source": [
    "### How much of this money came from outside of California?"
   ]
  },
  {
   "cell_type": "code",
   "execution_count": 142,
   "metadata": {},
   "outputs": [
    {
     "output_type": "execute_result",
     "data": {
      "text/plain": "   contributor_state       amount\n4                 CA  17491193.00\n8                 DE   6140100.00\n20                NY   5446985.00\n7                 DC   2618600.00\n9                 FL   1250850.00\n24                PA   1215475.00\n27                VA    895243.64\n28                WA     50800.00\n5                 CO     39300.00\n12                IL      7000.00\n25                RI      6700.00\n15                MD      2971.00\n21                OH      2950.00\n26                TX      1800.00\n19                NV      1800.00\n23                OR      1400.00\n11                ID      1000.00\n14                MA       600.00\n17                MO       550.00\n2                 AZ       500.00\n16                MI       400.00\n18                NC       200.00\n22                OK       200.00\n1                 AL       100.00\n13                LA       100.00\n10                GA       100.00\n6                 CT       100.00\n3                 BC         0.00\n0                 AB         0.00",
      "text/html": "<div>\n<style scoped>\n    .dataframe tbody tr th:only-of-type {\n        vertical-align: middle;\n    }\n\n    .dataframe tbody tr th {\n        vertical-align: top;\n    }\n\n    .dataframe thead th {\n        text-align: right;\n    }\n</style>\n<table border=\"1\" class=\"dataframe\">\n  <thead>\n    <tr style=\"text-align: right;\">\n      <th></th>\n      <th>contributor_state</th>\n      <th>amount</th>\n    </tr>\n  </thead>\n  <tbody>\n    <tr>\n      <th>4</th>\n      <td>CA</td>\n      <td>17491193.00</td>\n    </tr>\n    <tr>\n      <th>8</th>\n      <td>DE</td>\n      <td>6140100.00</td>\n    </tr>\n    <tr>\n      <th>20</th>\n      <td>NY</td>\n      <td>5446985.00</td>\n    </tr>\n    <tr>\n      <th>7</th>\n      <td>DC</td>\n      <td>2618600.00</td>\n    </tr>\n    <tr>\n      <th>9</th>\n      <td>FL</td>\n      <td>1250850.00</td>\n    </tr>\n    <tr>\n      <th>24</th>\n      <td>PA</td>\n      <td>1215475.00</td>\n    </tr>\n    <tr>\n      <th>27</th>\n      <td>VA</td>\n      <td>895243.64</td>\n    </tr>\n    <tr>\n      <th>28</th>\n      <td>WA</td>\n      <td>50800.00</td>\n    </tr>\n    <tr>\n      <th>5</th>\n      <td>CO</td>\n      <td>39300.00</td>\n    </tr>\n    <tr>\n      <th>12</th>\n      <td>IL</td>\n      <td>7000.00</td>\n    </tr>\n    <tr>\n      <th>25</th>\n      <td>RI</td>\n      <td>6700.00</td>\n    </tr>\n    <tr>\n      <th>15</th>\n      <td>MD</td>\n      <td>2971.00</td>\n    </tr>\n    <tr>\n      <th>21</th>\n      <td>OH</td>\n      <td>2950.00</td>\n    </tr>\n    <tr>\n      <th>26</th>\n      <td>TX</td>\n      <td>1800.00</td>\n    </tr>\n    <tr>\n      <th>19</th>\n      <td>NV</td>\n      <td>1800.00</td>\n    </tr>\n    <tr>\n      <th>23</th>\n      <td>OR</td>\n      <td>1400.00</td>\n    </tr>\n    <tr>\n      <th>11</th>\n      <td>ID</td>\n      <td>1000.00</td>\n    </tr>\n    <tr>\n      <th>14</th>\n      <td>MA</td>\n      <td>600.00</td>\n    </tr>\n    <tr>\n      <th>17</th>\n      <td>MO</td>\n      <td>550.00</td>\n    </tr>\n    <tr>\n      <th>2</th>\n      <td>AZ</td>\n      <td>500.00</td>\n    </tr>\n    <tr>\n      <th>16</th>\n      <td>MI</td>\n      <td>400.00</td>\n    </tr>\n    <tr>\n      <th>18</th>\n      <td>NC</td>\n      <td>200.00</td>\n    </tr>\n    <tr>\n      <th>22</th>\n      <td>OK</td>\n      <td>200.00</td>\n    </tr>\n    <tr>\n      <th>1</th>\n      <td>AL</td>\n      <td>100.00</td>\n    </tr>\n    <tr>\n      <th>13</th>\n      <td>LA</td>\n      <td>100.00</td>\n    </tr>\n    <tr>\n      <th>10</th>\n      <td>GA</td>\n      <td>100.00</td>\n    </tr>\n    <tr>\n      <th>6</th>\n      <td>CT</td>\n      <td>100.00</td>\n    </tr>\n    <tr>\n      <th>3</th>\n      <td>BC</td>\n      <td>0.00</td>\n    </tr>\n    <tr>\n      <th>0</th>\n      <td>AB</td>\n      <td>0.00</td>\n    </tr>\n  </tbody>\n</table>\n</div>"
     },
     "metadata": {},
     "execution_count": 142
    }
   ],
   "source": [
    "merged.groupby(\"contributor_state\").amount.sum().reset_index().sort_values(\"amount\", ascending=False)"
   ]
  },
  {
   "cell_type": "markdown",
   "metadata": {},
   "source": [
    "### Who were the top contributors?"
   ]
  },
  {
   "cell_type": "code",
   "execution_count": 143,
   "metadata": {},
   "outputs": [
    {
     "output_type": "execute_result",
     "data": {
      "text/plain": "    contributor_firstname                               contributor_lastname  \\\n554                  SEAN                     PARKER AND AFFILIATED ENTITIES   \n31                                                    FUND FOR POLICY REFORM   \n32                             FUND FOR POLICY REFORM (NONPROFIT 501 (C)(4))   \n24                         DRUG POLICY ACTION - NON PROFIT 501C4, YES ON ...   \n49                                                    NEW APPROACH PAC (MPO)   \n..                    ...                                                ...   \n501                  RICH                                           GOLDBERG   \n429               MARSTON                                            MEDLOCK   \n568             STEPHANIE                                    WARREN-SAMARIPA   \n207                 DAVID                                               WOOD   \n87             AMIRGHASEM                                    SAMIMI-ARDESTAN   \n\n        amount  \n554  7250000.0  \n31   6140000.0  \n32   3940000.0  \n24   3000000.0  \n49   2615000.0  \n..         ...  \n501       25.0  \n429        0.0  \n568        0.0  \n207        0.0  \n87         0.0  \n\n[620 rows x 3 columns]",
      "text/html": "<div>\n<style scoped>\n    .dataframe tbody tr th:only-of-type {\n        vertical-align: middle;\n    }\n\n    .dataframe tbody tr th {\n        vertical-align: top;\n    }\n\n    .dataframe thead th {\n        text-align: right;\n    }\n</style>\n<table border=\"1\" class=\"dataframe\">\n  <thead>\n    <tr style=\"text-align: right;\">\n      <th></th>\n      <th>contributor_firstname</th>\n      <th>contributor_lastname</th>\n      <th>amount</th>\n    </tr>\n  </thead>\n  <tbody>\n    <tr>\n      <th>554</th>\n      <td>SEAN</td>\n      <td>PARKER AND AFFILIATED ENTITIES</td>\n      <td>7250000.0</td>\n    </tr>\n    <tr>\n      <th>31</th>\n      <td></td>\n      <td>FUND FOR POLICY REFORM</td>\n      <td>6140000.0</td>\n    </tr>\n    <tr>\n      <th>32</th>\n      <td></td>\n      <td>FUND FOR POLICY REFORM (NONPROFIT 501 (C)(4))</td>\n      <td>3940000.0</td>\n    </tr>\n    <tr>\n      <th>24</th>\n      <td></td>\n      <td>DRUG POLICY ACTION - NON PROFIT 501C4, YES ON ...</td>\n      <td>3000000.0</td>\n    </tr>\n    <tr>\n      <th>49</th>\n      <td></td>\n      <td>NEW APPROACH PAC (MPO)</td>\n      <td>2615000.0</td>\n    </tr>\n    <tr>\n      <th>...</th>\n      <td>...</td>\n      <td>...</td>\n      <td>...</td>\n    </tr>\n    <tr>\n      <th>501</th>\n      <td>RICH</td>\n      <td>GOLDBERG</td>\n      <td>25.0</td>\n    </tr>\n    <tr>\n      <th>429</th>\n      <td>MARSTON</td>\n      <td>MEDLOCK</td>\n      <td>0.0</td>\n    </tr>\n    <tr>\n      <th>568</th>\n      <td>STEPHANIE</td>\n      <td>WARREN-SAMARIPA</td>\n      <td>0.0</td>\n    </tr>\n    <tr>\n      <th>207</th>\n      <td>DAVID</td>\n      <td>WOOD</td>\n      <td>0.0</td>\n    </tr>\n    <tr>\n      <th>87</th>\n      <td>AMIRGHASEM</td>\n      <td>SAMIMI-ARDESTAN</td>\n      <td>0.0</td>\n    </tr>\n  </tbody>\n</table>\n<p>620 rows × 3 columns</p>\n</div>"
     },
     "metadata": {},
     "execution_count": 143
    }
   ],
   "source": [
    "merged.groupby([\"contributor_firstname\", \"contributor_lastname\"]).amount.sum().reset_index().sort_values(\"amount\", ascending=False)"
   ]
  },
  {
   "cell_type": "markdown",
   "metadata": {},
   "source": [
    "And did they support or deny?"
   ]
  },
  {
   "cell_type": "code",
   "execution_count": 144,
   "metadata": {},
   "outputs": [
    {
     "output_type": "execute_result",
     "data": {
      "text/plain": "    contributor_firstname                               contributor_lastname  \\\n554                  SEAN                     PARKER AND AFFILIATED ENTITIES   \n31                                                    FUND FOR POLICY REFORM   \n32                             FUND FOR POLICY REFORM (NONPROFIT 501 (C)(4))   \n24                         DRUG POLICY ACTION - NON PROFIT 501C4, YES ON ...   \n49                                                    NEW APPROACH PAC (MPO)   \n..                    ...                                                ...   \n501                  RICH                                           GOLDBERG   \n429               MARSTON                                            MEDLOCK   \n568             STEPHANIE                                    WARREN-SAMARIPA   \n207                 DAVID                                               WOOD   \n87             AMIRGHASEM                                    SAMIMI-ARDESTAN   \n\n    committee_position     amount  \n554            SUPPORT  7250000.0  \n31             SUPPORT  6140000.0  \n32             SUPPORT  3940000.0  \n24             SUPPORT  3000000.0  \n49             SUPPORT  2615000.0  \n..                 ...        ...  \n501            SUPPORT       25.0  \n429            SUPPORT        0.0  \n568            SUPPORT        0.0  \n207            SUPPORT        0.0  \n87             SUPPORT        0.0  \n\n[620 rows x 4 columns]",
      "text/html": "<div>\n<style scoped>\n    .dataframe tbody tr th:only-of-type {\n        vertical-align: middle;\n    }\n\n    .dataframe tbody tr th {\n        vertical-align: top;\n    }\n\n    .dataframe thead th {\n        text-align: right;\n    }\n</style>\n<table border=\"1\" class=\"dataframe\">\n  <thead>\n    <tr style=\"text-align: right;\">\n      <th></th>\n      <th>contributor_firstname</th>\n      <th>contributor_lastname</th>\n      <th>committee_position</th>\n      <th>amount</th>\n    </tr>\n  </thead>\n  <tbody>\n    <tr>\n      <th>554</th>\n      <td>SEAN</td>\n      <td>PARKER AND AFFILIATED ENTITIES</td>\n      <td>SUPPORT</td>\n      <td>7250000.0</td>\n    </tr>\n    <tr>\n      <th>31</th>\n      <td></td>\n      <td>FUND FOR POLICY REFORM</td>\n      <td>SUPPORT</td>\n      <td>6140000.0</td>\n    </tr>\n    <tr>\n      <th>32</th>\n      <td></td>\n      <td>FUND FOR POLICY REFORM (NONPROFIT 501 (C)(4))</td>\n      <td>SUPPORT</td>\n      <td>3940000.0</td>\n    </tr>\n    <tr>\n      <th>24</th>\n      <td></td>\n      <td>DRUG POLICY ACTION - NON PROFIT 501C4, YES ON ...</td>\n      <td>SUPPORT</td>\n      <td>3000000.0</td>\n    </tr>\n    <tr>\n      <th>49</th>\n      <td></td>\n      <td>NEW APPROACH PAC (MPO)</td>\n      <td>SUPPORT</td>\n      <td>2615000.0</td>\n    </tr>\n    <tr>\n      <th>...</th>\n      <td>...</td>\n      <td>...</td>\n      <td>...</td>\n      <td>...</td>\n    </tr>\n    <tr>\n      <th>501</th>\n      <td>RICH</td>\n      <td>GOLDBERG</td>\n      <td>SUPPORT</td>\n      <td>25.0</td>\n    </tr>\n    <tr>\n      <th>429</th>\n      <td>MARSTON</td>\n      <td>MEDLOCK</td>\n      <td>SUPPORT</td>\n      <td>0.0</td>\n    </tr>\n    <tr>\n      <th>568</th>\n      <td>STEPHANIE</td>\n      <td>WARREN-SAMARIPA</td>\n      <td>SUPPORT</td>\n      <td>0.0</td>\n    </tr>\n    <tr>\n      <th>207</th>\n      <td>DAVID</td>\n      <td>WOOD</td>\n      <td>SUPPORT</td>\n      <td>0.0</td>\n    </tr>\n    <tr>\n      <th>87</th>\n      <td>AMIRGHASEM</td>\n      <td>SAMIMI-ARDESTAN</td>\n      <td>SUPPORT</td>\n      <td>0.0</td>\n    </tr>\n  </tbody>\n</table>\n<p>620 rows × 4 columns</p>\n</div>"
     },
     "metadata": {},
     "execution_count": 144
    }
   ],
   "source": [
    "merged.groupby([\"contributor_firstname\", \"contributor_lastname\", \"committee_position\"]).amount.sum().reset_index().sort_values(\"amount\", ascending=False)"
   ]
  },
  {
   "cell_type": "markdown",
   "metadata": {},
   "source": [
    "Just supporters"
   ]
  },
  {
   "cell_type": "code",
   "execution_count": 162,
   "metadata": {},
   "outputs": [
    {
     "output_type": "execute_result",
     "data": {
      "text/plain": "    contributor_firstname                               contributor_lastname  \\\n487                  SEAN                     PARKER AND AFFILIATED ENTITIES   \n19                                                    FUND FOR POLICY REFORM   \n20                             FUND FOR POLICY REFORM (NONPROFIT 501 (C)(4))   \n12                         DRUG POLICY ACTION - NON PROFIT 501C4, YES ON ...   \n31                                                    NEW APPROACH PAC (MPO)   \n486                  SEAN                                             PARKER   \n145                DANIEL                                              LEWIS   \n223                 HENRY                                      VAN AMERINGEN   \n11                                                        DRUG POLICY ACTION   \n417              NICHOLAS                                           PRITZKER   \n\n        amount  \n487  7250000.0  \n19   6140000.0  \n20   3940000.0  \n12   3000000.0  \n31   2615000.0  \n486  1500000.0  \n145  1250000.0  \n223  1000000.0  \n11   1000000.0  \n417   900000.0  ",
      "text/html": "<div>\n<style scoped>\n    .dataframe tbody tr th:only-of-type {\n        vertical-align: middle;\n    }\n\n    .dataframe tbody tr th {\n        vertical-align: top;\n    }\n\n    .dataframe thead th {\n        text-align: right;\n    }\n</style>\n<table border=\"1\" class=\"dataframe\">\n  <thead>\n    <tr style=\"text-align: right;\">\n      <th></th>\n      <th>contributor_firstname</th>\n      <th>contributor_lastname</th>\n      <th>amount</th>\n    </tr>\n  </thead>\n  <tbody>\n    <tr>\n      <th>487</th>\n      <td>SEAN</td>\n      <td>PARKER AND AFFILIATED ENTITIES</td>\n      <td>7250000.0</td>\n    </tr>\n    <tr>\n      <th>19</th>\n      <td></td>\n      <td>FUND FOR POLICY REFORM</td>\n      <td>6140000.0</td>\n    </tr>\n    <tr>\n      <th>20</th>\n      <td></td>\n      <td>FUND FOR POLICY REFORM (NONPROFIT 501 (C)(4))</td>\n      <td>3940000.0</td>\n    </tr>\n    <tr>\n      <th>12</th>\n      <td></td>\n      <td>DRUG POLICY ACTION - NON PROFIT 501C4, YES ON ...</td>\n      <td>3000000.0</td>\n    </tr>\n    <tr>\n      <th>31</th>\n      <td></td>\n      <td>NEW APPROACH PAC (MPO)</td>\n      <td>2615000.0</td>\n    </tr>\n    <tr>\n      <th>486</th>\n      <td>SEAN</td>\n      <td>PARKER</td>\n      <td>1500000.0</td>\n    </tr>\n    <tr>\n      <th>145</th>\n      <td>DANIEL</td>\n      <td>LEWIS</td>\n      <td>1250000.0</td>\n    </tr>\n    <tr>\n      <th>223</th>\n      <td>HENRY</td>\n      <td>VAN AMERINGEN</td>\n      <td>1000000.0</td>\n    </tr>\n    <tr>\n      <th>11</th>\n      <td></td>\n      <td>DRUG POLICY ACTION</td>\n      <td>1000000.0</td>\n    </tr>\n    <tr>\n      <th>417</th>\n      <td>NICHOLAS</td>\n      <td>PRITZKER</td>\n      <td>900000.0</td>\n    </tr>\n  </tbody>\n</table>\n</div>"
     },
     "metadata": {},
     "execution_count": 162
    }
   ],
   "source": [
    "top_supporters = support.groupby([\"contributor_firstname\", \"contributor_lastname\"]).amount.sum().reset_index().sort_values(\"amount\", ascending=False).head(10)\n",
    "top_supporters"
   ]
  },
  {
   "cell_type": "markdown",
   "metadata": {},
   "source": [
    "Just opponents"
   ]
  },
  {
   "cell_type": "code",
   "execution_count": 160,
   "metadata": {},
   "outputs": [
    {
     "output_type": "execute_result",
     "data": {
      "text/plain": "   contributor_firstname                               contributor_lastname  \\\n48                 JULIE                                            SCHAUER   \n24                                                         SAM ACTION, INC.   \n10                        CALIFORNIANS FOR JOBS, ASSEMBLYMEMBER JIM COOP...   \n9                         CALIF. TEAMSTERS PUBLIC AFFAIRS COUNCIL ISSUES...   \n19                        PEACE OFFICERS RESEARCH ASSOC. OF CALIF. POLIT...   \n3                                        CALIF. ASSOC. OF HIGHWAY PATROLMEN   \n7                                               CALIF. POLICE CHIEFS ASSOC.   \n5                                      CALIF. HOSPITALS COMMITTEE ON ISSUES   \n6                                              CALIF. PEACE OFFICERS ASSOC.   \n8                                             CALIF. STATE SHERIFFS' ASSOC.   \n\n       amount  \n48  1364000.0  \n24   889650.0  \n10    25000.0  \n9     25000.0  \n19    25000.0  \n3     25000.0  \n7     20000.0  \n5     10000.0  \n6     10000.0  \n8     10000.0  ",
      "text/html": "<div>\n<style scoped>\n    .dataframe tbody tr th:only-of-type {\n        vertical-align: middle;\n    }\n\n    .dataframe tbody tr th {\n        vertical-align: top;\n    }\n\n    .dataframe thead th {\n        text-align: right;\n    }\n</style>\n<table border=\"1\" class=\"dataframe\">\n  <thead>\n    <tr style=\"text-align: right;\">\n      <th></th>\n      <th>contributor_firstname</th>\n      <th>contributor_lastname</th>\n      <th>amount</th>\n    </tr>\n  </thead>\n  <tbody>\n    <tr>\n      <th>48</th>\n      <td>JULIE</td>\n      <td>SCHAUER</td>\n      <td>1364000.0</td>\n    </tr>\n    <tr>\n      <th>24</th>\n      <td></td>\n      <td>SAM ACTION, INC.</td>\n      <td>889650.0</td>\n    </tr>\n    <tr>\n      <th>10</th>\n      <td></td>\n      <td>CALIFORNIANS FOR JOBS, ASSEMBLYMEMBER JIM COOP...</td>\n      <td>25000.0</td>\n    </tr>\n    <tr>\n      <th>9</th>\n      <td></td>\n      <td>CALIF. TEAMSTERS PUBLIC AFFAIRS COUNCIL ISSUES...</td>\n      <td>25000.0</td>\n    </tr>\n    <tr>\n      <th>19</th>\n      <td></td>\n      <td>PEACE OFFICERS RESEARCH ASSOC. OF CALIF. POLIT...</td>\n      <td>25000.0</td>\n    </tr>\n    <tr>\n      <th>3</th>\n      <td></td>\n      <td>CALIF. ASSOC. OF HIGHWAY PATROLMEN</td>\n      <td>25000.0</td>\n    </tr>\n    <tr>\n      <th>7</th>\n      <td></td>\n      <td>CALIF. POLICE CHIEFS ASSOC.</td>\n      <td>20000.0</td>\n    </tr>\n    <tr>\n      <th>5</th>\n      <td></td>\n      <td>CALIF. HOSPITALS COMMITTEE ON ISSUES</td>\n      <td>10000.0</td>\n    </tr>\n    <tr>\n      <th>6</th>\n      <td></td>\n      <td>CALIF. PEACE OFFICERS ASSOC.</td>\n      <td>10000.0</td>\n    </tr>\n    <tr>\n      <th>8</th>\n      <td></td>\n      <td>CALIF. STATE SHERIFFS' ASSOC.</td>\n      <td>10000.0</td>\n    </tr>\n  </tbody>\n</table>\n</div>"
     },
     "metadata": {},
     "execution_count": 160
    }
   ],
   "source": [
    "top_opponents = oppose.groupby([\"contributor_firstname\", \"contributor_lastname\"]).amount.sum().reset_index().sort_values(\"amount\", ascending=False).head(10)\n",
    "top_opponents"
   ]
  },
  {
   "cell_type": "code",
   "execution_count": 167,
   "metadata": {},
   "outputs": [],
   "source": [
    "top_supporters['contributor_fullname'] = top_supporters.contributor_firstname + \" \" + top_supporters.contributor_lastname"
   ]
  },
  {
   "cell_type": "code",
   "execution_count": 168,
   "metadata": {},
   "outputs": [
    {
     "output_type": "execute_result",
     "data": {
      "text/html": "\n<div id=\"altair-viz-dce939bcef83419bb72154768b39fbb0\"></div>\n<script type=\"text/javascript\">\n  (function(spec, embedOpt){\n    let outputDiv = document.currentScript.previousElementSibling;\n    if (outputDiv.id !== \"altair-viz-dce939bcef83419bb72154768b39fbb0\") {\n      outputDiv = document.getElementById(\"altair-viz-dce939bcef83419bb72154768b39fbb0\");\n    }\n    const paths = {\n      \"vega\": \"https://cdn.jsdelivr.net/npm//vega@5?noext\",\n      \"vega-lib\": \"https://cdn.jsdelivr.net/npm//vega-lib?noext\",\n      \"vega-lite\": \"https://cdn.jsdelivr.net/npm//vega-lite@4.8.1?noext\",\n      \"vega-embed\": \"https://cdn.jsdelivr.net/npm//vega-embed@6?noext\",\n    };\n\n    function loadScript(lib) {\n      return new Promise(function(resolve, reject) {\n        var s = document.createElement('script');\n        s.src = paths[lib];\n        s.async = true;\n        s.onload = () => resolve(paths[lib]);\n        s.onerror = () => reject(`Error loading script: ${paths[lib]}`);\n        document.getElementsByTagName(\"head\")[0].appendChild(s);\n      });\n    }\n\n    function showError(err) {\n      outputDiv.innerHTML = `<div class=\"error\" style=\"color:red;\">${err}</div>`;\n      throw err;\n    }\n\n    function displayChart(vegaEmbed) {\n      vegaEmbed(outputDiv, spec, embedOpt)\n        .catch(err => showError(`Javascript Error: ${err.message}<br>This usually means there's a typo in your chart specification. See the javascript console for the full traceback.`));\n    }\n\n    if(typeof define === \"function\" && define.amd) {\n      requirejs.config({paths});\n      require([\"vega-embed\"], displayChart, err => showError(`Error loading script: ${err.message}`));\n    } else if (typeof vegaEmbed === \"function\") {\n      displayChart(vegaEmbed);\n    } else {\n      loadScript(\"vega\")\n        .then(() => loadScript(\"vega-lite\"))\n        .then(() => loadScript(\"vega-embed\"))\n        .catch(showError)\n        .then(() => displayChart(vegaEmbed));\n    }\n  })({\"config\": {\"view\": {\"continuousWidth\": 400, \"continuousHeight\": 300}}, \"data\": {\"name\": \"data-47d5f446e8feeee326062b27b7cb2964\"}, \"mark\": \"bar\", \"encoding\": {\"x\": {\"type\": \"quantitative\", \"field\": \"amount\"}, \"y\": {\"type\": \"nominal\", \"field\": \"contributor_fullname\"}}, \"$schema\": \"https://vega.github.io/schema/vega-lite/v4.8.1.json\", \"datasets\": {\"data-47d5f446e8feeee326062b27b7cb2964\": [{\"contributor_firstname\": \"SEAN\", \"contributor_lastname\": \"PARKER AND AFFILIATED ENTITIES\", \"amount\": 7250000.0, \"contributor_fullname\": \"SEAN PARKER AND AFFILIATED ENTITIES\"}, {\"contributor_firstname\": \"\", \"contributor_lastname\": \"FUND FOR POLICY REFORM\", \"amount\": 6140000.0, \"contributor_fullname\": \" FUND FOR POLICY REFORM\"}, {\"contributor_firstname\": \"\", \"contributor_lastname\": \"FUND FOR POLICY REFORM (NONPROFIT 501 (C)(4))\", \"amount\": 3940000.0, \"contributor_fullname\": \" FUND FOR POLICY REFORM (NONPROFIT 501 (C)(4))\"}, {\"contributor_firstname\": \"\", \"contributor_lastname\": \"DRUG POLICY ACTION - NON PROFIT 501C4, YES ON PROP. 64\", \"amount\": 3000000.0, \"contributor_fullname\": \" DRUG POLICY ACTION - NON PROFIT 501C4, YES ON PROP. 64\"}, {\"contributor_firstname\": \"\", \"contributor_lastname\": \"NEW APPROACH PAC (MPO)\", \"amount\": 2615000.0, \"contributor_fullname\": \" NEW APPROACH PAC (MPO)\"}]}}, {\"mode\": \"vega-lite\"});\n</script>",
      "text/plain": "alt.Chart(...)"
     },
     "metadata": {},
     "execution_count": 168
    }
   ],
   "source": [
    "alt.Chart(top_supporters.head(5)).mark_bar().encode(x=\"amount\", y=\"contributor_fullname\")"
   ]
  },
  {
   "cell_type": "code",
   "execution_count": 170,
   "metadata": {},
   "outputs": [
    {
     "output_type": "execute_result",
     "data": {
      "text/html": "\n<div id=\"altair-viz-de46497f0c9f4531b82b8813bf84daed\"></div>\n<script type=\"text/javascript\">\n  (function(spec, embedOpt){\n    let outputDiv = document.currentScript.previousElementSibling;\n    if (outputDiv.id !== \"altair-viz-de46497f0c9f4531b82b8813bf84daed\") {\n      outputDiv = document.getElementById(\"altair-viz-de46497f0c9f4531b82b8813bf84daed\");\n    }\n    const paths = {\n      \"vega\": \"https://cdn.jsdelivr.net/npm//vega@5?noext\",\n      \"vega-lib\": \"https://cdn.jsdelivr.net/npm//vega-lib?noext\",\n      \"vega-lite\": \"https://cdn.jsdelivr.net/npm//vega-lite@4.8.1?noext\",\n      \"vega-embed\": \"https://cdn.jsdelivr.net/npm//vega-embed@6?noext\",\n    };\n\n    function loadScript(lib) {\n      return new Promise(function(resolve, reject) {\n        var s = document.createElement('script');\n        s.src = paths[lib];\n        s.async = true;\n        s.onload = () => resolve(paths[lib]);\n        s.onerror = () => reject(`Error loading script: ${paths[lib]}`);\n        document.getElementsByTagName(\"head\")[0].appendChild(s);\n      });\n    }\n\n    function showError(err) {\n      outputDiv.innerHTML = `<div class=\"error\" style=\"color:red;\">${err}</div>`;\n      throw err;\n    }\n\n    function displayChart(vegaEmbed) {\n      vegaEmbed(outputDiv, spec, embedOpt)\n        .catch(err => showError(`Javascript Error: ${err.message}<br>This usually means there's a typo in your chart specification. See the javascript console for the full traceback.`));\n    }\n\n    if(typeof define === \"function\" && define.amd) {\n      requirejs.config({paths});\n      require([\"vega-embed\"], displayChart, err => showError(`Error loading script: ${err.message}`));\n    } else if (typeof vegaEmbed === \"function\") {\n      displayChart(vegaEmbed);\n    } else {\n      loadScript(\"vega\")\n        .then(() => loadScript(\"vega-lite\"))\n        .then(() => loadScript(\"vega-embed\"))\n        .catch(showError)\n        .then(() => displayChart(vegaEmbed));\n    }\n  })({\"config\": {\"view\": {\"continuousWidth\": 400, \"continuousHeight\": 300}}, \"data\": {\"name\": \"data-47d5f446e8feeee326062b27b7cb2964\"}, \"mark\": \"bar\", \"encoding\": {\"x\": {\"type\": \"quantitative\", \"field\": \"amount\"}, \"y\": {\"type\": \"nominal\", \"field\": \"contributor_fullname\", \"sort\": \"-x\"}}, \"title\": \"Top Contributors in Support of CA Prop 64\", \"$schema\": \"https://vega.github.io/schema/vega-lite/v4.8.1.json\", \"datasets\": {\"data-47d5f446e8feeee326062b27b7cb2964\": [{\"contributor_firstname\": \"SEAN\", \"contributor_lastname\": \"PARKER AND AFFILIATED ENTITIES\", \"amount\": 7250000.0, \"contributor_fullname\": \"SEAN PARKER AND AFFILIATED ENTITIES\"}, {\"contributor_firstname\": \"\", \"contributor_lastname\": \"FUND FOR POLICY REFORM\", \"amount\": 6140000.0, \"contributor_fullname\": \" FUND FOR POLICY REFORM\"}, {\"contributor_firstname\": \"\", \"contributor_lastname\": \"FUND FOR POLICY REFORM (NONPROFIT 501 (C)(4))\", \"amount\": 3940000.0, \"contributor_fullname\": \" FUND FOR POLICY REFORM (NONPROFIT 501 (C)(4))\"}, {\"contributor_firstname\": \"\", \"contributor_lastname\": \"DRUG POLICY ACTION - NON PROFIT 501C4, YES ON PROP. 64\", \"amount\": 3000000.0, \"contributor_fullname\": \" DRUG POLICY ACTION - NON PROFIT 501C4, YES ON PROP. 64\"}, {\"contributor_firstname\": \"\", \"contributor_lastname\": \"NEW APPROACH PAC (MPO)\", \"amount\": 2615000.0, \"contributor_fullname\": \" NEW APPROACH PAC (MPO)\"}]}}, {\"mode\": \"vega-lite\"});\n</script>",
      "text/plain": "alt.Chart(...)"
     },
     "metadata": {},
     "execution_count": 170
    }
   ],
   "source": [
    "\n",
    "alt.Chart(top_supporters.head(5)).mark_bar().encode(\n",
    "    x=\"amount\",\n",
    "    y=alt.Y(\"contributor_fullname\", sort=\"-x\")\n",
    ").properties(\n",
    "    title=\"Top Contributors in Support of CA Prop 64\"\n",
    ")"
   ]
  },
  {
   "cell_type": "code",
   "execution_count": 173,
   "metadata": {},
   "outputs": [
    {
     "output_type": "execute_result",
     "data": {
      "text/plain": "    contributor_firstname                               contributor_lastname  \\\n554                  SEAN                     PARKER AND AFFILIATED ENTITIES   \n31                                                    FUND FOR POLICY REFORM   \n32                             FUND FOR POLICY REFORM (NONPROFIT 501 (C)(4))   \n24                         DRUG POLICY ACTION - NON PROFIT 501C4, YES ON ...   \n49                                                    NEW APPROACH PAC (MPO)   \n553                  SEAN                                             PARKER   \n352                 JULIE                                            SCHAUER   \n179                DANIEL                                              LEWIS   \n23                                                        DRUG POLICY ACTION   \n265                 HENRY                                      VAN AMERINGEN   \n\n    committee_position     amount  \n554            SUPPORT  7250000.0  \n31             SUPPORT  6140000.0  \n32             SUPPORT  3940000.0  \n24             SUPPORT  3000000.0  \n49             SUPPORT  2615000.0  \n553            SUPPORT  1500000.0  \n352             OPPOSE  1364000.0  \n179            SUPPORT  1250000.0  \n23             SUPPORT  1000000.0  \n265            SUPPORT  1000000.0  ",
      "text/html": "<div>\n<style scoped>\n    .dataframe tbody tr th:only-of-type {\n        vertical-align: middle;\n    }\n\n    .dataframe tbody tr th {\n        vertical-align: top;\n    }\n\n    .dataframe thead th {\n        text-align: right;\n    }\n</style>\n<table border=\"1\" class=\"dataframe\">\n  <thead>\n    <tr style=\"text-align: right;\">\n      <th></th>\n      <th>contributor_firstname</th>\n      <th>contributor_lastname</th>\n      <th>committee_position</th>\n      <th>amount</th>\n    </tr>\n  </thead>\n  <tbody>\n    <tr>\n      <th>554</th>\n      <td>SEAN</td>\n      <td>PARKER AND AFFILIATED ENTITIES</td>\n      <td>SUPPORT</td>\n      <td>7250000.0</td>\n    </tr>\n    <tr>\n      <th>31</th>\n      <td></td>\n      <td>FUND FOR POLICY REFORM</td>\n      <td>SUPPORT</td>\n      <td>6140000.0</td>\n    </tr>\n    <tr>\n      <th>32</th>\n      <td></td>\n      <td>FUND FOR POLICY REFORM (NONPROFIT 501 (C)(4))</td>\n      <td>SUPPORT</td>\n      <td>3940000.0</td>\n    </tr>\n    <tr>\n      <th>24</th>\n      <td></td>\n      <td>DRUG POLICY ACTION - NON PROFIT 501C4, YES ON ...</td>\n      <td>SUPPORT</td>\n      <td>3000000.0</td>\n    </tr>\n    <tr>\n      <th>49</th>\n      <td></td>\n      <td>NEW APPROACH PAC (MPO)</td>\n      <td>SUPPORT</td>\n      <td>2615000.0</td>\n    </tr>\n    <tr>\n      <th>553</th>\n      <td>SEAN</td>\n      <td>PARKER</td>\n      <td>SUPPORT</td>\n      <td>1500000.0</td>\n    </tr>\n    <tr>\n      <th>352</th>\n      <td>JULIE</td>\n      <td>SCHAUER</td>\n      <td>OPPOSE</td>\n      <td>1364000.0</td>\n    </tr>\n    <tr>\n      <th>179</th>\n      <td>DANIEL</td>\n      <td>LEWIS</td>\n      <td>SUPPORT</td>\n      <td>1250000.0</td>\n    </tr>\n    <tr>\n      <th>23</th>\n      <td></td>\n      <td>DRUG POLICY ACTION</td>\n      <td>SUPPORT</td>\n      <td>1000000.0</td>\n    </tr>\n    <tr>\n      <th>265</th>\n      <td>HENRY</td>\n      <td>VAN AMERINGEN</td>\n      <td>SUPPORT</td>\n      <td>1000000.0</td>\n    </tr>\n  </tbody>\n</table>\n</div>"
     },
     "metadata": {},
     "execution_count": 173
    }
   ],
   "source": [
    "top_contributors = merged.groupby([\"contributor_firstname\", \"contributor_lastname\", \"committee_position\"]).amount.sum().reset_index().sort_values(\"amount\", ascending=False).head(10)\n",
    "top_contributors"
   ]
  },
  {
   "cell_type": "code",
   "execution_count": 174,
   "metadata": {},
   "outputs": [],
   "source": [
    "top_contributors[\"contributor_fullname\"] = top_contributors[\"contributor_firstname\"] + \" \" + top_contributors[\"contributor_lastname\"]"
   ]
  },
  {
   "cell_type": "code",
   "execution_count": 178,
   "metadata": {},
   "outputs": [
    {
     "output_type": "execute_result",
     "data": {
      "text/html": "\n<div id=\"altair-viz-b9c689b07d62461a82c4ebd80d161900\"></div>\n<script type=\"text/javascript\">\n  (function(spec, embedOpt){\n    let outputDiv = document.currentScript.previousElementSibling;\n    if (outputDiv.id !== \"altair-viz-b9c689b07d62461a82c4ebd80d161900\") {\n      outputDiv = document.getElementById(\"altair-viz-b9c689b07d62461a82c4ebd80d161900\");\n    }\n    const paths = {\n      \"vega\": \"https://cdn.jsdelivr.net/npm//vega@5?noext\",\n      \"vega-lib\": \"https://cdn.jsdelivr.net/npm//vega-lib?noext\",\n      \"vega-lite\": \"https://cdn.jsdelivr.net/npm//vega-lite@4.8.1?noext\",\n      \"vega-embed\": \"https://cdn.jsdelivr.net/npm//vega-embed@6?noext\",\n    };\n\n    function loadScript(lib) {\n      return new Promise(function(resolve, reject) {\n        var s = document.createElement('script');\n        s.src = paths[lib];\n        s.async = true;\n        s.onload = () => resolve(paths[lib]);\n        s.onerror = () => reject(`Error loading script: ${paths[lib]}`);\n        document.getElementsByTagName(\"head\")[0].appendChild(s);\n      });\n    }\n\n    function showError(err) {\n      outputDiv.innerHTML = `<div class=\"error\" style=\"color:red;\">${err}</div>`;\n      throw err;\n    }\n\n    function displayChart(vegaEmbed) {\n      vegaEmbed(outputDiv, spec, embedOpt)\n        .catch(err => showError(`Javascript Error: ${err.message}<br>This usually means there's a typo in your chart specification. See the javascript console for the full traceback.`));\n    }\n\n    if(typeof define === \"function\" && define.amd) {\n      requirejs.config({paths});\n      require([\"vega-embed\"], displayChart, err => showError(`Error loading script: ${err.message}`));\n    } else if (typeof vegaEmbed === \"function\") {\n      displayChart(vegaEmbed);\n    } else {\n      loadScript(\"vega\")\n        .then(() => loadScript(\"vega-lite\"))\n        .then(() => loadScript(\"vega-embed\"))\n        .catch(showError)\n        .then(() => displayChart(vegaEmbed));\n    }\n  })({\"config\": {\"view\": {\"continuousWidth\": 400, \"continuousHeight\": 300}}, \"data\": {\"name\": \"data-7d8d4178e2142fdefef8688e7f0d72a4\"}, \"mark\": \"bar\", \"encoding\": {\"color\": {\"type\": \"nominal\", \"field\": \"committee_position\"}, \"x\": {\"type\": \"quantitative\", \"field\": \"amount\"}, \"y\": {\"type\": \"nominal\", \"field\": \"contributor_fullname\", \"sort\": \"-x\"}}, \"$schema\": \"https://vega.github.io/schema/vega-lite/v4.8.1.json\", \"datasets\": {\"data-7d8d4178e2142fdefef8688e7f0d72a4\": [{\"contributor_firstname\": \"SEAN\", \"contributor_lastname\": \"PARKER AND AFFILIATED ENTITIES\", \"committee_position\": \"SUPPORT\", \"amount\": 7250000.0, \"contributor_fullname\": \"SEAN PARKER AND AFFILIATED ENTITIES\"}, {\"contributor_firstname\": \"\", \"contributor_lastname\": \"FUND FOR POLICY REFORM\", \"committee_position\": \"SUPPORT\", \"amount\": 6140000.0, \"contributor_fullname\": \" FUND FOR POLICY REFORM\"}, {\"contributor_firstname\": \"\", \"contributor_lastname\": \"FUND FOR POLICY REFORM (NONPROFIT 501 (C)(4))\", \"committee_position\": \"SUPPORT\", \"amount\": 3940000.0, \"contributor_fullname\": \" FUND FOR POLICY REFORM (NONPROFIT 501 (C)(4))\"}, {\"contributor_firstname\": \"\", \"contributor_lastname\": \"DRUG POLICY ACTION - NON PROFIT 501C4, YES ON PROP. 64\", \"committee_position\": \"SUPPORT\", \"amount\": 3000000.0, \"contributor_fullname\": \" DRUG POLICY ACTION - NON PROFIT 501C4, YES ON PROP. 64\"}, {\"contributor_firstname\": \"\", \"contributor_lastname\": \"NEW APPROACH PAC (MPO)\", \"committee_position\": \"SUPPORT\", \"amount\": 2615000.0, \"contributor_fullname\": \" NEW APPROACH PAC (MPO)\"}, {\"contributor_firstname\": \"SEAN\", \"contributor_lastname\": \"PARKER\", \"committee_position\": \"SUPPORT\", \"amount\": 1500000.0, \"contributor_fullname\": \"SEAN PARKER\"}, {\"contributor_firstname\": \"JULIE\", \"contributor_lastname\": \"SCHAUER\", \"committee_position\": \"OPPOSE\", \"amount\": 1364000.0, \"contributor_fullname\": \"JULIE SCHAUER\"}, {\"contributor_firstname\": \"DANIEL\", \"contributor_lastname\": \"LEWIS\", \"committee_position\": \"SUPPORT\", \"amount\": 1250000.0, \"contributor_fullname\": \"DANIEL LEWIS\"}, {\"contributor_firstname\": \"\", \"contributor_lastname\": \"DRUG POLICY ACTION\", \"committee_position\": \"SUPPORT\", \"amount\": 1000000.0, \"contributor_fullname\": \" DRUG POLICY ACTION\"}, {\"contributor_firstname\": \"HENRY\", \"contributor_lastname\": \"VAN AMERINGEN\", \"committee_position\": \"SUPPORT\", \"amount\": 1000000.0, \"contributor_fullname\": \"HENRY VAN AMERINGEN\"}]}}, {\"mode\": \"vega-lite\"});\n</script>",
      "text/plain": "alt.Chart(...)"
     },
     "metadata": {},
     "execution_count": 178
    }
   ],
   "source": [
    "alt.Chart(top_contributors).mark_bar().encode(\n",
    "    x=\"amount\",\n",
    "    y=alt.Y(\"contributor_fullname\", sort=\"-x\"),\n",
    "    color=\"committee_position\"\n",
    ")"
   ]
  },
  {
   "cell_type": "markdown",
   "metadata": {},
   "source": [
    "## What are the top employers of donors for and against prop 64?"
   ]
  },
  {
   "cell_type": "code",
   "execution_count": 147,
   "metadata": {},
   "outputs": [
    {
     "output_type": "execute_result",
     "data": {
      "text/plain": "                       contributor_employer  amount\n0                                               151\n1                   360SWEATER COMPANY, LLC       1\n2    3C - COMPREHENSIVE CANNABIS CONSULTING       1\n3                           4FRONT VENTURES       1\n4                              5AM VENTURES       1\n..                                      ...     ...\n386                             WINTER, LLP       1\n387                              WOMEN GROW       1\n388                            WYKOWSKI LAW       1\n389                                   YAHOO       2\n390                   YEN INTERACTIVE MEDIA       1\n\n[391 rows x 2 columns]",
      "text/html": "<div>\n<style scoped>\n    .dataframe tbody tr th:only-of-type {\n        vertical-align: middle;\n    }\n\n    .dataframe tbody tr th {\n        vertical-align: top;\n    }\n\n    .dataframe thead th {\n        text-align: right;\n    }\n</style>\n<table border=\"1\" class=\"dataframe\">\n  <thead>\n    <tr style=\"text-align: right;\">\n      <th></th>\n      <th>contributor_employer</th>\n      <th>amount</th>\n    </tr>\n  </thead>\n  <tbody>\n    <tr>\n      <th>0</th>\n      <td></td>\n      <td>151</td>\n    </tr>\n    <tr>\n      <th>1</th>\n      <td>360SWEATER COMPANY, LLC</td>\n      <td>1</td>\n    </tr>\n    <tr>\n      <th>2</th>\n      <td>3C - COMPREHENSIVE CANNABIS CONSULTING</td>\n      <td>1</td>\n    </tr>\n    <tr>\n      <th>3</th>\n      <td>4FRONT VENTURES</td>\n      <td>1</td>\n    </tr>\n    <tr>\n      <th>4</th>\n      <td>5AM VENTURES</td>\n      <td>1</td>\n    </tr>\n    <tr>\n      <th>...</th>\n      <td>...</td>\n      <td>...</td>\n    </tr>\n    <tr>\n      <th>386</th>\n      <td>WINTER, LLP</td>\n      <td>1</td>\n    </tr>\n    <tr>\n      <th>387</th>\n      <td>WOMEN GROW</td>\n      <td>1</td>\n    </tr>\n    <tr>\n      <th>388</th>\n      <td>WYKOWSKI LAW</td>\n      <td>1</td>\n    </tr>\n    <tr>\n      <th>389</th>\n      <td>YAHOO</td>\n      <td>2</td>\n    </tr>\n    <tr>\n      <th>390</th>\n      <td>YEN INTERACTIVE MEDIA</td>\n      <td>1</td>\n    </tr>\n  </tbody>\n</table>\n<p>391 rows × 2 columns</p>\n</div>"
     },
     "metadata": {},
     "execution_count": 147
    }
   ],
   "source": [
    "support.groupby([\"contributor_employer\"]).amount.count().reset_index()"
   ]
  },
  {
   "cell_type": "code",
   "execution_count": 148,
   "metadata": {},
   "outputs": [
    {
     "output_type": "execute_result",
     "data": {
      "text/plain": "                      contributor_employer  amount\n0                                               52\n1                            AEROWIND CORP       1\n2                           ALAMEDA COUNTY       1\n3           AMADOR COUNTY SHERIFF'S OFFICE       1\n4                      BELMONT POLICE DEPT       1\n5                        BOSTON SCIENTIFIC       5\n6       CALIFORNIA INSTITUTE OF TECHNOLOGY       1\n7                            CCC PROBATION       1\n8                          CITY OF ARCADIA       1\n9                 CITY OF HUNTINGTON BEACH       1\n10                        CITY OF IMPERIAL       1\n11  CITY OF LOS ALAMITOS POLICE DEPARTMENT       1\n12                         CITY OF ROCKLIN       1\n13                       CITY OF SUNNYVALE       2\n14                         CITY OF VENTURA       1\n15                     CITY OF WATSONVILLE       1\n16                                    CNOA       1\n17           COUNTY OF SANTA CLARA S.J. CA       1\n18                                      CS       1\n19                                     CSI       2\n20                        GLOBALWIDE MEDIA       1\n21                               LA COUNTY       1\n22                MOADEB & ASSOCIATES, INC       1\n23                                     NON       1\n24                                    NONE       2\n25                               PRECISION       1\n26                                 RETIRED       4\n27                 SCOTT SEAMAN CONSULTING       1\n28                                    SEFF       1\n29                                    SELF       3\n30                                   SFWKC       1\n31                     STATE OF CALIFORNIA       4",
      "text/html": "<div>\n<style scoped>\n    .dataframe tbody tr th:only-of-type {\n        vertical-align: middle;\n    }\n\n    .dataframe tbody tr th {\n        vertical-align: top;\n    }\n\n    .dataframe thead th {\n        text-align: right;\n    }\n</style>\n<table border=\"1\" class=\"dataframe\">\n  <thead>\n    <tr style=\"text-align: right;\">\n      <th></th>\n      <th>contributor_employer</th>\n      <th>amount</th>\n    </tr>\n  </thead>\n  <tbody>\n    <tr>\n      <th>0</th>\n      <td></td>\n      <td>52</td>\n    </tr>\n    <tr>\n      <th>1</th>\n      <td>AEROWIND CORP</td>\n      <td>1</td>\n    </tr>\n    <tr>\n      <th>2</th>\n      <td>ALAMEDA COUNTY</td>\n      <td>1</td>\n    </tr>\n    <tr>\n      <th>3</th>\n      <td>AMADOR COUNTY SHERIFF'S OFFICE</td>\n      <td>1</td>\n    </tr>\n    <tr>\n      <th>4</th>\n      <td>BELMONT POLICE DEPT</td>\n      <td>1</td>\n    </tr>\n    <tr>\n      <th>5</th>\n      <td>BOSTON SCIENTIFIC</td>\n      <td>5</td>\n    </tr>\n    <tr>\n      <th>6</th>\n      <td>CALIFORNIA INSTITUTE OF TECHNOLOGY</td>\n      <td>1</td>\n    </tr>\n    <tr>\n      <th>7</th>\n      <td>CCC PROBATION</td>\n      <td>1</td>\n    </tr>\n    <tr>\n      <th>8</th>\n      <td>CITY OF ARCADIA</td>\n      <td>1</td>\n    </tr>\n    <tr>\n      <th>9</th>\n      <td>CITY OF HUNTINGTON BEACH</td>\n      <td>1</td>\n    </tr>\n    <tr>\n      <th>10</th>\n      <td>CITY OF IMPERIAL</td>\n      <td>1</td>\n    </tr>\n    <tr>\n      <th>11</th>\n      <td>CITY OF LOS ALAMITOS POLICE DEPARTMENT</td>\n      <td>1</td>\n    </tr>\n    <tr>\n      <th>12</th>\n      <td>CITY OF ROCKLIN</td>\n      <td>1</td>\n    </tr>\n    <tr>\n      <th>13</th>\n      <td>CITY OF SUNNYVALE</td>\n      <td>2</td>\n    </tr>\n    <tr>\n      <th>14</th>\n      <td>CITY OF VENTURA</td>\n      <td>1</td>\n    </tr>\n    <tr>\n      <th>15</th>\n      <td>CITY OF WATSONVILLE</td>\n      <td>1</td>\n    </tr>\n    <tr>\n      <th>16</th>\n      <td>CNOA</td>\n      <td>1</td>\n    </tr>\n    <tr>\n      <th>17</th>\n      <td>COUNTY OF SANTA CLARA S.J. CA</td>\n      <td>1</td>\n    </tr>\n    <tr>\n      <th>18</th>\n      <td>CS</td>\n      <td>1</td>\n    </tr>\n    <tr>\n      <th>19</th>\n      <td>CSI</td>\n      <td>2</td>\n    </tr>\n    <tr>\n      <th>20</th>\n      <td>GLOBALWIDE MEDIA</td>\n      <td>1</td>\n    </tr>\n    <tr>\n      <th>21</th>\n      <td>LA COUNTY</td>\n      <td>1</td>\n    </tr>\n    <tr>\n      <th>22</th>\n      <td>MOADEB &amp; ASSOCIATES, INC</td>\n      <td>1</td>\n    </tr>\n    <tr>\n      <th>23</th>\n      <td>NON</td>\n      <td>1</td>\n    </tr>\n    <tr>\n      <th>24</th>\n      <td>NONE</td>\n      <td>2</td>\n    </tr>\n    <tr>\n      <th>25</th>\n      <td>PRECISION</td>\n      <td>1</td>\n    </tr>\n    <tr>\n      <th>26</th>\n      <td>RETIRED</td>\n      <td>4</td>\n    </tr>\n    <tr>\n      <th>27</th>\n      <td>SCOTT SEAMAN CONSULTING</td>\n      <td>1</td>\n    </tr>\n    <tr>\n      <th>28</th>\n      <td>SEFF</td>\n      <td>1</td>\n    </tr>\n    <tr>\n      <th>29</th>\n      <td>SELF</td>\n      <td>3</td>\n    </tr>\n    <tr>\n      <th>30</th>\n      <td>SFWKC</td>\n      <td>1</td>\n    </tr>\n    <tr>\n      <th>31</th>\n      <td>STATE OF CALIFORNIA</td>\n      <td>4</td>\n    </tr>\n  </tbody>\n</table>\n</div>"
     },
     "metadata": {},
     "execution_count": 148
    }
   ],
   "source": [
    "oppose.groupby([\"contributor_employer\"]).amount.count().reset_index()"
   ]
  },
  {
   "cell_type": "markdown",
   "metadata": {},
   "source": [
    "And total amounts by employer?"
   ]
  },
  {
   "cell_type": "code",
   "execution_count": 149,
   "metadata": {},
   "outputs": [
    {
     "output_type": "execute_result",
     "data": {
      "text/plain": "                        contributor_employer      amount\n0                                             29121025.0\n323                   SEAN PARKER FOUNDATION   1250000.0\n295                                  RETIRED    502300.0\n352                TAO CAPITAL PARTNERS, LLC    450000.0\n351                 TAO CAPITAL PARTNERS LLC    450000.0\n..                                       ...         ...\n275                         ORBIT TOOL WORKS        25.0\n69   CALIFORNIA STATE UNIVERSITY, NORTHRIDGE        25.0\n246                                MEDIGREEN         0.0\n338                STEPHANIE WARREN SAMARIPA         0.0\n58                     BORDEN LADNER GERVAIS         0.0\n\n[391 rows x 2 columns]",
      "text/html": "<div>\n<style scoped>\n    .dataframe tbody tr th:only-of-type {\n        vertical-align: middle;\n    }\n\n    .dataframe tbody tr th {\n        vertical-align: top;\n    }\n\n    .dataframe thead th {\n        text-align: right;\n    }\n</style>\n<table border=\"1\" class=\"dataframe\">\n  <thead>\n    <tr style=\"text-align: right;\">\n      <th></th>\n      <th>contributor_employer</th>\n      <th>amount</th>\n    </tr>\n  </thead>\n  <tbody>\n    <tr>\n      <th>0</th>\n      <td></td>\n      <td>29121025.0</td>\n    </tr>\n    <tr>\n      <th>323</th>\n      <td>SEAN PARKER FOUNDATION</td>\n      <td>1250000.0</td>\n    </tr>\n    <tr>\n      <th>295</th>\n      <td>RETIRED</td>\n      <td>502300.0</td>\n    </tr>\n    <tr>\n      <th>352</th>\n      <td>TAO CAPITAL PARTNERS, LLC</td>\n      <td>450000.0</td>\n    </tr>\n    <tr>\n      <th>351</th>\n      <td>TAO CAPITAL PARTNERS LLC</td>\n      <td>450000.0</td>\n    </tr>\n    <tr>\n      <th>...</th>\n      <td>...</td>\n      <td>...</td>\n    </tr>\n    <tr>\n      <th>275</th>\n      <td>ORBIT TOOL WORKS</td>\n      <td>25.0</td>\n    </tr>\n    <tr>\n      <th>69</th>\n      <td>CALIFORNIA STATE UNIVERSITY, NORTHRIDGE</td>\n      <td>25.0</td>\n    </tr>\n    <tr>\n      <th>246</th>\n      <td>MEDIGREEN</td>\n      <td>0.0</td>\n    </tr>\n    <tr>\n      <th>338</th>\n      <td>STEPHANIE WARREN SAMARIPA</td>\n      <td>0.0</td>\n    </tr>\n    <tr>\n      <th>58</th>\n      <td>BORDEN LADNER GERVAIS</td>\n      <td>0.0</td>\n    </tr>\n  </tbody>\n</table>\n<p>391 rows × 2 columns</p>\n</div>"
     },
     "metadata": {},
     "execution_count": 149
    }
   ],
   "source": [
    "support.groupby([\"contributor_employer\"]).amount.sum().reset_index().sort_values(\"amount\", ascending=False)"
   ]
  },
  {
   "cell_type": "code",
   "execution_count": 150,
   "metadata": {},
   "outputs": [
    {
     "output_type": "execute_result",
     "data": {
      "text/plain": "                      contributor_employer      amount\n0                                           2477393.64\n18                                      CS     6500.00\n19                                     CSI     5000.00\n5                        BOSTON SCIENTIFIC     1550.00\n24                                    NONE     1500.00\n26                                 RETIRED     1371.00\n23                                     NON     1000.00\n20                        GLOBALWIDE MEDIA     1000.00\n30                                   SFWKC      817.00\n31                     STATE OF CALIFORNIA      730.00\n21                               LA COUNTY      500.00\n25                               PRECISION      500.00\n12                         CITY OF ROCKLIN      300.00\n14                         CITY OF VENTURA      300.00\n29                                    SELF      300.00\n7                            CCC PROBATION      250.00\n3           AMADOR COUNTY SHERIFF'S OFFICE      250.00\n2                           ALAMEDA COUNTY      200.00\n28                                    SEFF      200.00\n10                        CITY OF IMPERIAL      200.00\n4                      BELMONT POLICE DEPT      150.00\n17           COUNTY OF SANTA CLARA S.J. CA      150.00\n13                       CITY OF SUNNYVALE      150.00\n8                          CITY OF ARCADIA      100.00\n11  CITY OF LOS ALAMITOS POLICE DEPARTMENT      100.00\n22                MOADEB & ASSOCIATES, INC      100.00\n6       CALIFORNIA INSTITUTE OF TECHNOLOGY      100.00\n9                 CITY OF HUNTINGTON BEACH      100.00\n27                 SCOTT SEAMAN CONSULTING      100.00\n1                            AEROWIND CORP      100.00\n15                     CITY OF WATSONVILLE      100.00\n16                                    CNOA      100.00",
      "text/html": "<div>\n<style scoped>\n    .dataframe tbody tr th:only-of-type {\n        vertical-align: middle;\n    }\n\n    .dataframe tbody tr th {\n        vertical-align: top;\n    }\n\n    .dataframe thead th {\n        text-align: right;\n    }\n</style>\n<table border=\"1\" class=\"dataframe\">\n  <thead>\n    <tr style=\"text-align: right;\">\n      <th></th>\n      <th>contributor_employer</th>\n      <th>amount</th>\n    </tr>\n  </thead>\n  <tbody>\n    <tr>\n      <th>0</th>\n      <td></td>\n      <td>2477393.64</td>\n    </tr>\n    <tr>\n      <th>18</th>\n      <td>CS</td>\n      <td>6500.00</td>\n    </tr>\n    <tr>\n      <th>19</th>\n      <td>CSI</td>\n      <td>5000.00</td>\n    </tr>\n    <tr>\n      <th>5</th>\n      <td>BOSTON SCIENTIFIC</td>\n      <td>1550.00</td>\n    </tr>\n    <tr>\n      <th>24</th>\n      <td>NONE</td>\n      <td>1500.00</td>\n    </tr>\n    <tr>\n      <th>26</th>\n      <td>RETIRED</td>\n      <td>1371.00</td>\n    </tr>\n    <tr>\n      <th>23</th>\n      <td>NON</td>\n      <td>1000.00</td>\n    </tr>\n    <tr>\n      <th>20</th>\n      <td>GLOBALWIDE MEDIA</td>\n      <td>1000.00</td>\n    </tr>\n    <tr>\n      <th>30</th>\n      <td>SFWKC</td>\n      <td>817.00</td>\n    </tr>\n    <tr>\n      <th>31</th>\n      <td>STATE OF CALIFORNIA</td>\n      <td>730.00</td>\n    </tr>\n    <tr>\n      <th>21</th>\n      <td>LA COUNTY</td>\n      <td>500.00</td>\n    </tr>\n    <tr>\n      <th>25</th>\n      <td>PRECISION</td>\n      <td>500.00</td>\n    </tr>\n    <tr>\n      <th>12</th>\n      <td>CITY OF ROCKLIN</td>\n      <td>300.00</td>\n    </tr>\n    <tr>\n      <th>14</th>\n      <td>CITY OF VENTURA</td>\n      <td>300.00</td>\n    </tr>\n    <tr>\n      <th>29</th>\n      <td>SELF</td>\n      <td>300.00</td>\n    </tr>\n    <tr>\n      <th>7</th>\n      <td>CCC PROBATION</td>\n      <td>250.00</td>\n    </tr>\n    <tr>\n      <th>3</th>\n      <td>AMADOR COUNTY SHERIFF'S OFFICE</td>\n      <td>250.00</td>\n    </tr>\n    <tr>\n      <th>2</th>\n      <td>ALAMEDA COUNTY</td>\n      <td>200.00</td>\n    </tr>\n    <tr>\n      <th>28</th>\n      <td>SEFF</td>\n      <td>200.00</td>\n    </tr>\n    <tr>\n      <th>10</th>\n      <td>CITY OF IMPERIAL</td>\n      <td>200.00</td>\n    </tr>\n    <tr>\n      <th>4</th>\n      <td>BELMONT POLICE DEPT</td>\n      <td>150.00</td>\n    </tr>\n    <tr>\n      <th>17</th>\n      <td>COUNTY OF SANTA CLARA S.J. CA</td>\n      <td>150.00</td>\n    </tr>\n    <tr>\n      <th>13</th>\n      <td>CITY OF SUNNYVALE</td>\n      <td>150.00</td>\n    </tr>\n    <tr>\n      <th>8</th>\n      <td>CITY OF ARCADIA</td>\n      <td>100.00</td>\n    </tr>\n    <tr>\n      <th>11</th>\n      <td>CITY OF LOS ALAMITOS POLICE DEPARTMENT</td>\n      <td>100.00</td>\n    </tr>\n    <tr>\n      <th>22</th>\n      <td>MOADEB &amp; ASSOCIATES, INC</td>\n      <td>100.00</td>\n    </tr>\n    <tr>\n      <th>6</th>\n      <td>CALIFORNIA INSTITUTE OF TECHNOLOGY</td>\n      <td>100.00</td>\n    </tr>\n    <tr>\n      <th>9</th>\n      <td>CITY OF HUNTINGTON BEACH</td>\n      <td>100.00</td>\n    </tr>\n    <tr>\n      <th>27</th>\n      <td>SCOTT SEAMAN CONSULTING</td>\n      <td>100.00</td>\n    </tr>\n    <tr>\n      <th>1</th>\n      <td>AEROWIND CORP</td>\n      <td>100.00</td>\n    </tr>\n    <tr>\n      <th>15</th>\n      <td>CITY OF WATSONVILLE</td>\n      <td>100.00</td>\n    </tr>\n    <tr>\n      <th>16</th>\n      <td>CNOA</td>\n      <td>100.00</td>\n    </tr>\n  </tbody>\n</table>\n</div>"
     },
     "metadata": {},
     "execution_count": 150
    }
   ],
   "source": [
    "oppose.groupby([\"contributor_employer\"]).amount.sum().reset_index().sort_values(\"amount\", ascending=False)"
   ]
  },
  {
   "cell_type": "markdown",
   "metadata": {},
   "source": [
    "Why is it okay that the majority of donations don't have an employer listed?"
   ]
  },
  {
   "cell_type": "markdown",
   "metadata": {},
   "source": [
    "## What was the average size of donations both for and against prop 64?"
   ]
  },
  {
   "cell_type": "code",
   "execution_count": 151,
   "metadata": {},
   "outputs": [
    {
     "output_type": "execute_result",
     "data": {
      "text/plain": "42881.63517060367"
     },
     "metadata": {},
     "execution_count": 151
    }
   ],
   "source": [
    "support.amount.mean()"
   ]
  },
  {
   "cell_type": "code",
   "execution_count": 152,
   "metadata": {},
   "outputs": [
    {
     "output_type": "execute_result",
     "data": {
      "text/plain": "25522.56775510204"
     },
     "metadata": {},
     "execution_count": 152
    }
   ],
   "source": [
    "oppose.amount.mean()"
   ]
  },
  {
   "cell_type": "markdown",
   "metadata": {},
   "source": [
    "## Which committees had the fewest donors?"
   ]
  },
  {
   "cell_type": "code",
   "execution_count": 153,
   "metadata": {},
   "outputs": [
    {
     "output_type": "execute_result",
     "data": {
      "text/plain": "                                                index  committee_name_x\n0   CALIFORNIANS FOR RESPONSIBLE MARIJUANA REFORM,...               420\n1   YES ON 64, CALIFORNIANS TO CONTROL, REGULATE A...               250\n2   PUBLIC AND MENTAL HEALTH ADVOCATES AGAINST 64,...                88\n3   MARIJUANA POLICY PROJECT OF CALIFORNIA, YES ON 64                40\n4          ADULT USE CAMPAIGN FOR PROPOSITION 64; THE                26\n5                              NEW APPROACH PAC (MPO)                 9\n6        FUND FOR POLICY REFORM (NONPROFIT 501(C)(4))                 8\n7   DRUG POLICY ACTION - NON PROFIT 501C4, YES ON ...                 7\n8   SAM ACTION, INC., A COMMITTEE AGAINST PROPOSIT...                 6\n9                         MOMS STRONG AGAINST PROP 64                 4\n10  CALIFORNIANS FOR SENSIBLE REFORM, SPONSORED BY...                 2",
      "text/html": "<div>\n<style scoped>\n    .dataframe tbody tr th:only-of-type {\n        vertical-align: middle;\n    }\n\n    .dataframe tbody tr th {\n        vertical-align: top;\n    }\n\n    .dataframe thead th {\n        text-align: right;\n    }\n</style>\n<table border=\"1\" class=\"dataframe\">\n  <thead>\n    <tr style=\"text-align: right;\">\n      <th></th>\n      <th>index</th>\n      <th>committee_name_x</th>\n    </tr>\n  </thead>\n  <tbody>\n    <tr>\n      <th>0</th>\n      <td>CALIFORNIANS FOR RESPONSIBLE MARIJUANA REFORM,...</td>\n      <td>420</td>\n    </tr>\n    <tr>\n      <th>1</th>\n      <td>YES ON 64, CALIFORNIANS TO CONTROL, REGULATE A...</td>\n      <td>250</td>\n    </tr>\n    <tr>\n      <th>2</th>\n      <td>PUBLIC AND MENTAL HEALTH ADVOCATES AGAINST 64,...</td>\n      <td>88</td>\n    </tr>\n    <tr>\n      <th>3</th>\n      <td>MARIJUANA POLICY PROJECT OF CALIFORNIA, YES ON 64</td>\n      <td>40</td>\n    </tr>\n    <tr>\n      <th>4</th>\n      <td>ADULT USE CAMPAIGN FOR PROPOSITION 64; THE</td>\n      <td>26</td>\n    </tr>\n    <tr>\n      <th>5</th>\n      <td>NEW APPROACH PAC (MPO)</td>\n      <td>9</td>\n    </tr>\n    <tr>\n      <th>6</th>\n      <td>FUND FOR POLICY REFORM (NONPROFIT 501(C)(4))</td>\n      <td>8</td>\n    </tr>\n    <tr>\n      <th>7</th>\n      <td>DRUG POLICY ACTION - NON PROFIT 501C4, YES ON ...</td>\n      <td>7</td>\n    </tr>\n    <tr>\n      <th>8</th>\n      <td>SAM ACTION, INC., A COMMITTEE AGAINST PROPOSIT...</td>\n      <td>6</td>\n    </tr>\n    <tr>\n      <th>9</th>\n      <td>MOMS STRONG AGAINST PROP 64</td>\n      <td>4</td>\n    </tr>\n    <tr>\n      <th>10</th>\n      <td>CALIFORNIANS FOR SENSIBLE REFORM, SPONSORED BY...</td>\n      <td>2</td>\n    </tr>\n  </tbody>\n</table>\n</div>"
     },
     "metadata": {},
     "execution_count": 153
    }
   ],
   "source": [
    "# num donations per committee\n",
    "merged.committee_name_x.value_counts().reset_index()"
   ]
  },
  {
   "cell_type": "code",
   "execution_count": 154,
   "metadata": {},
   "outputs": [
    {
     "output_type": "execute_result",
     "data": {
      "text/plain": "                                     committee_name_x  amount\n2   CALIFORNIANS FOR SENSIBLE REFORM, SPONSORED BY...       2\n6                         MOMS STRONG AGAINST PROP 64       4\n9   SAM ACTION, INC., A COMMITTEE AGAINST PROPOSIT...       6\n3   DRUG POLICY ACTION - NON PROFIT 501C4, YES ON ...       7\n4        FUND FOR POLICY REFORM (NONPROFIT 501(C)(4))       8\n7                              NEW APPROACH PAC (MPO)       9\n0          ADULT USE CAMPAIGN FOR PROPOSITION 64; THE      26\n5   MARIJUANA POLICY PROJECT OF CALIFORNIA, YES ON 64      40\n8   PUBLIC AND MENTAL HEALTH ADVOCATES AGAINST 64,...      88\n10  YES ON 64, CALIFORNIANS TO CONTROL, REGULATE A...     250\n1   CALIFORNIANS FOR RESPONSIBLE MARIJUANA REFORM,...     420",
      "text/html": "<div>\n<style scoped>\n    .dataframe tbody tr th:only-of-type {\n        vertical-align: middle;\n    }\n\n    .dataframe tbody tr th {\n        vertical-align: top;\n    }\n\n    .dataframe thead th {\n        text-align: right;\n    }\n</style>\n<table border=\"1\" class=\"dataframe\">\n  <thead>\n    <tr style=\"text-align: right;\">\n      <th></th>\n      <th>committee_name_x</th>\n      <th>amount</th>\n    </tr>\n  </thead>\n  <tbody>\n    <tr>\n      <th>2</th>\n      <td>CALIFORNIANS FOR SENSIBLE REFORM, SPONSORED BY...</td>\n      <td>2</td>\n    </tr>\n    <tr>\n      <th>6</th>\n      <td>MOMS STRONG AGAINST PROP 64</td>\n      <td>4</td>\n    </tr>\n    <tr>\n      <th>9</th>\n      <td>SAM ACTION, INC., A COMMITTEE AGAINST PROPOSIT...</td>\n      <td>6</td>\n    </tr>\n    <tr>\n      <th>3</th>\n      <td>DRUG POLICY ACTION - NON PROFIT 501C4, YES ON ...</td>\n      <td>7</td>\n    </tr>\n    <tr>\n      <th>4</th>\n      <td>FUND FOR POLICY REFORM (NONPROFIT 501(C)(4))</td>\n      <td>8</td>\n    </tr>\n    <tr>\n      <th>7</th>\n      <td>NEW APPROACH PAC (MPO)</td>\n      <td>9</td>\n    </tr>\n    <tr>\n      <th>0</th>\n      <td>ADULT USE CAMPAIGN FOR PROPOSITION 64; THE</td>\n      <td>26</td>\n    </tr>\n    <tr>\n      <th>5</th>\n      <td>MARIJUANA POLICY PROJECT OF CALIFORNIA, YES ON 64</td>\n      <td>40</td>\n    </tr>\n    <tr>\n      <th>8</th>\n      <td>PUBLIC AND MENTAL HEALTH ADVOCATES AGAINST 64,...</td>\n      <td>88</td>\n    </tr>\n    <tr>\n      <th>10</th>\n      <td>YES ON 64, CALIFORNIANS TO CONTROL, REGULATE A...</td>\n      <td>250</td>\n    </tr>\n    <tr>\n      <th>1</th>\n      <td>CALIFORNIANS FOR RESPONSIBLE MARIJUANA REFORM,...</td>\n      <td>420</td>\n    </tr>\n  </tbody>\n</table>\n</div>"
     },
     "metadata": {},
     "execution_count": 154
    }
   ],
   "source": [
    "# same calculation, just a different way\n",
    "merged.groupby([\"committee_name_x\"]).amount.count().reset_index().sort_values(\"amount\", ascending=True)"
   ]
  },
  {
   "cell_type": "code",
   "execution_count": 155,
   "metadata": {},
   "outputs": [
    {
     "output_type": "execute_result",
     "data": {
      "text/plain": "                                    committee_name_x  amount\n2  CALIFORNIANS FOR SENSIBLE REFORM, SPONSORED BY...       2\n3  DRUG POLICY ACTION - NON PROFIT 501C4, YES ON ...       7\n4       FUND FOR POLICY REFORM (NONPROFIT 501(C)(4))       8\n6                             NEW APPROACH PAC (MPO)       9\n0         ADULT USE CAMPAIGN FOR PROPOSITION 64; THE      26\n5  MARIJUANA POLICY PROJECT OF CALIFORNIA, YES ON 64      40\n7  YES ON 64, CALIFORNIANS TO CONTROL, REGULATE A...     250\n1  CALIFORNIANS FOR RESPONSIBLE MARIJUANA REFORM,...     420",
      "text/html": "<div>\n<style scoped>\n    .dataframe tbody tr th:only-of-type {\n        vertical-align: middle;\n    }\n\n    .dataframe tbody tr th {\n        vertical-align: top;\n    }\n\n    .dataframe thead th {\n        text-align: right;\n    }\n</style>\n<table border=\"1\" class=\"dataframe\">\n  <thead>\n    <tr style=\"text-align: right;\">\n      <th></th>\n      <th>committee_name_x</th>\n      <th>amount</th>\n    </tr>\n  </thead>\n  <tbody>\n    <tr>\n      <th>2</th>\n      <td>CALIFORNIANS FOR SENSIBLE REFORM, SPONSORED BY...</td>\n      <td>2</td>\n    </tr>\n    <tr>\n      <th>3</th>\n      <td>DRUG POLICY ACTION - NON PROFIT 501C4, YES ON ...</td>\n      <td>7</td>\n    </tr>\n    <tr>\n      <th>4</th>\n      <td>FUND FOR POLICY REFORM (NONPROFIT 501(C)(4))</td>\n      <td>8</td>\n    </tr>\n    <tr>\n      <th>6</th>\n      <td>NEW APPROACH PAC (MPO)</td>\n      <td>9</td>\n    </tr>\n    <tr>\n      <th>0</th>\n      <td>ADULT USE CAMPAIGN FOR PROPOSITION 64; THE</td>\n      <td>26</td>\n    </tr>\n    <tr>\n      <th>5</th>\n      <td>MARIJUANA POLICY PROJECT OF CALIFORNIA, YES ON 64</td>\n      <td>40</td>\n    </tr>\n    <tr>\n      <th>7</th>\n      <td>YES ON 64, CALIFORNIANS TO CONTROL, REGULATE A...</td>\n      <td>250</td>\n    </tr>\n    <tr>\n      <th>1</th>\n      <td>CALIFORNIANS FOR RESPONSIBLE MARIJUANA REFORM,...</td>\n      <td>420</td>\n    </tr>\n  </tbody>\n</table>\n</div>"
     },
     "metadata": {},
     "execution_count": 155
    }
   ],
   "source": [
    "support.groupby([\"committee_name_x\"]).amount.count().reset_index().sort_values(\"amount\", ascending=True)"
   ]
  },
  {
   "cell_type": "code",
   "execution_count": 156,
   "metadata": {},
   "outputs": [
    {
     "output_type": "execute_result",
     "data": {
      "text/plain": "                                    committee_name_x  amount\n0                        MOMS STRONG AGAINST PROP 64       4\n2  SAM ACTION, INC., A COMMITTEE AGAINST PROPOSIT...       6\n1  PUBLIC AND MENTAL HEALTH ADVOCATES AGAINST 64,...      88",
      "text/html": "<div>\n<style scoped>\n    .dataframe tbody tr th:only-of-type {\n        vertical-align: middle;\n    }\n\n    .dataframe tbody tr th {\n        vertical-align: top;\n    }\n\n    .dataframe thead th {\n        text-align: right;\n    }\n</style>\n<table border=\"1\" class=\"dataframe\">\n  <thead>\n    <tr style=\"text-align: right;\">\n      <th></th>\n      <th>committee_name_x</th>\n      <th>amount</th>\n    </tr>\n  </thead>\n  <tbody>\n    <tr>\n      <th>0</th>\n      <td>MOMS STRONG AGAINST PROP 64</td>\n      <td>4</td>\n    </tr>\n    <tr>\n      <th>2</th>\n      <td>SAM ACTION, INC., A COMMITTEE AGAINST PROPOSIT...</td>\n      <td>6</td>\n    </tr>\n    <tr>\n      <th>1</th>\n      <td>PUBLIC AND MENTAL HEALTH ADVOCATES AGAINST 64,...</td>\n      <td>88</td>\n    </tr>\n  </tbody>\n</table>\n</div>"
     },
     "metadata": {},
     "execution_count": 156
    }
   ],
   "source": [
    "oppose.groupby([\"committee_name_x\"]).amount.count().reset_index().sort_values(\"amount\", ascending=True)"
   ]
  },
  {
   "cell_type": "markdown",
   "metadata": {},
   "source": [
    "Wow, there were actually only 3 committees opposed and 8 in support"
   ]
  },
  {
   "cell_type": "code",
   "execution_count": null,
   "metadata": {},
   "outputs": [],
   "source": []
  }
 ],
 "metadata": {
  "kernelspec": {
   "display_name": "Python 3",
   "language": "python",
   "name": "python3"
  },
  "language_info": {
   "codemirror_mode": {
    "name": "ipython",
    "version": 3
   },
   "file_extension": ".py",
   "mimetype": "text/x-python",
   "name": "python",
   "nbconvert_exporter": "python",
   "pygments_lexer": "ipython3",
   "version": "3.8.5-final"
  }
 },
 "nbformat": 4,
 "nbformat_minor": 4
}